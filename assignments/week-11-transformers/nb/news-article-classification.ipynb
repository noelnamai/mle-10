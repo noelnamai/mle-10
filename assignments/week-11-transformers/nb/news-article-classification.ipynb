{
  "cells": [
    {
      "cell_type": "markdown",
      "id": "TfzL6S25dL6j",
      "metadata": {
        "id": "TfzL6S25dL6j"
      },
      "source": [
        "<p align = \"center\" draggable=”false” ><img src=\"https://user-images.githubusercontent.com/37101144/161836199-fdb0219d-0361-4988-bf26-48b0fad160a3.png\" \n",
        "     width=\"200px\"\n",
        "     height=\"auto\"/>\n",
        "</p>"
      ]
    },
    {
      "cell_type": "markdown",
      "id": "cd6727ba",
      "metadata": {
        "id": "cd6727ba"
      },
      "source": [
        "# News Article Classification\n"
      ]
    },
    {
      "cell_type": "markdown",
      "id": "1dd0ce8d",
      "metadata": {
        "id": "1dd0ce8d"
      },
      "source": [
        "Today, you are a machine learning engineer at [Upday](https://www.upday.com/home), a news app. The engine behind the app processes almost 100k news articles every day in many languages and context. In order to connect people with the right content, we need to know what the articles are about. \n",
        "\n",
        "The job here is to build a classifier that identify the category of an article accurately that will be fed into the recommendation algorithms of the app for better personalized content for the readers. \n",
        "\n",
        "You will first train a Transformer from scratch; then fine-tune a pre-trained Transformer model for text classification using 🤗; and compare performances using the same test data set."
      ]
    },
    {
      "cell_type": "markdown",
      "id": "c979a92b",
      "metadata": {
        "id": "c979a92b"
      },
      "source": [
        "## Learning objectives\n"
      ]
    },
    {
      "cell_type": "markdown",
      "id": "4f6bcf51",
      "metadata": {
        "id": "4f6bcf51"
      },
      "source": [
        "By the end of this session, you will be able to:\n",
        "- Understand how Transformer models work\n",
        "- Build a Transformer model for text classification from scratch\n",
        "- Fine-tune a pre-trained Transformer model for text classification using 🤗 "
      ]
    },
    {
      "cell_type": "markdown",
      "id": "64724518",
      "metadata": {
        "id": "64724518"
      },
      "source": [
        "# Task 1. Prepare the data"
      ]
    },
    {
      "cell_type": "markdown",
      "id": "48a57962",
      "metadata": {
        "id": "48a57962"
      },
      "source": [
        "1. [20 news groups data](http://qwone.com/~jason/20Newsgroups/) is one of the standard datasets in the `scikit-learn`. The 20 newsgroups dataset comprises around 18k newsgroups posts on 20 topics split in two subsets: one for training (or development) and the other one for testing (or for performance evaluation). The split between the two datasets is based upon messages posted before and after a specific date.\n",
        "\n",
        "    Take a read on its [usage](https://scikit-learn.org/stable/datasets/real_world.html#newsgroups-dataset) and load the training and testing datasets into `train` and `test` respectively via `fetch_20newsgroups`."
      ]
    },
    {
      "cell_type": "code",
      "execution_count": 1,
      "id": "1f4d54b2",
      "metadata": {
        "id": "1f4d54b2"
      },
      "outputs": [],
      "source": [
        "NUM_LABELS = 20"
      ]
    },
    {
      "cell_type": "code",
      "execution_count": 2,
      "id": "511c1fd2",
      "metadata": {
        "id": "511c1fd2"
      },
      "outputs": [],
      "source": [
        "from sklearn.datasets import fetch_20newsgroups\n",
        "\n",
        "# YOUR CODE HERE\n",
        "train = fetch_20newsgroups(subset=\"train\")\n",
        "test  = fetch_20newsgroups(subset=\"test\")"
      ]
    },
    {
      "cell_type": "markdown",
      "id": "dd0ed320",
      "metadata": {
        "id": "dd0ed320"
      },
      "source": [
        "1. Explore the data. For example, what is the data type of `train` and `test`? What is the data type of `train['data']`? What is in `train['target_names']`? \n",
        "\n",
        "    YOUR ANSWER HERE"
      ]
    },
    {
      "cell_type": "markdown",
      "id": "685b52dd",
      "metadata": {
        "id": "685b52dd"
      },
      "source": [
        "1. Train / validation / test splits. \n",
        "\n",
        "    There are four keys in each data set and we need \"data\" (the text) and \"target\" (the category). Extract the \"data\" and create a `pd.Series` named `X`; and extract the \"target\" and create a `pd.Series` named `y`. Do the same for the `test` data set, named `X_test` and `y_test`, respectively."
      ]
    },
    {
      "cell_type": "code",
      "execution_count": 3,
      "id": "4a044fbf",
      "metadata": {
        "id": "4a044fbf"
      },
      "outputs": [],
      "source": [
        "import pandas as pd\n",
        "\n",
        "# YOUR CODE HERE\n",
        "X, y = train.data, train.target\n",
        "X_test, y_test = test.data, test.target"
      ]
    },
    {
      "cell_type": "markdown",
      "id": "ad6b5518",
      "metadata": {
        "id": "ad6b5518"
      },
      "source": [
        "Now split `X` and `y` into training and validation sets. Use `train_test_split` from `sklearn.model_selection` to split the data; save 10% of the data for validation and set the random state to 19."
      ]
    },
    {
      "cell_type": "code",
      "execution_count": 4,
      "id": "5b792fff",
      "metadata": {
        "id": "5b792fff"
      },
      "outputs": [],
      "source": [
        "from sklearn.model_selection import train_test_split \n",
        "\n",
        "# YOUR CODE HERE\n",
        "X_train, X_valid, y_train, y_valid = train_test_split(X, y, train_size=0.9, random_state=19)"
      ]
    },
    {
      "cell_type": "code",
      "execution_count": 5,
      "id": "17b97380",
      "metadata": {
        "id": "17b97380"
      },
      "outputs": [],
      "source": [
        "assert y_train.shape == (10182,)\n",
        "assert y_valid.shape == (1132,)\n",
        "assert y_test.shape  == (7532,)"
      ]
    },
    {
      "cell_type": "markdown",
      "id": "8e3d71a0",
      "metadata": {
        "id": "8e3d71a0"
      },
      "source": [
        "1. Convert categorical labels into dummy variables. \n",
        "\n",
        "    Use `pd.get_dummies` to convert labels into dummy variables for `y_train`, `y_valid`, `y_test`."
      ]
    },
    {
      "cell_type": "code",
      "execution_count": 6,
      "id": "72e335c2",
      "metadata": {
        "id": "72e335c2"
      },
      "outputs": [],
      "source": [
        "# YOUR CODE HERE\n",
        "y_train = pd.get_dummies(y_train) \n",
        "y_valid = pd.get_dummies(y_valid)\n",
        "y_test  = pd.get_dummies(y_test) "
      ]
    },
    {
      "cell_type": "code",
      "execution_count": 7,
      "id": "ee3a80ca",
      "metadata": {
        "id": "ee3a80ca"
      },
      "outputs": [],
      "source": [
        "assert y_train.shape == (10182, NUM_LABELS)\n",
        "assert y_valid.shape == (1132, NUM_LABELS)\n",
        "assert y_test.shape  == (7532, NUM_LABELS)"
      ]
    },
    {
      "cell_type": "markdown",
      "id": "9603eb10",
      "metadata": {
        "id": "9603eb10"
      },
      "source": [
        "\n",
        "# Task 2. Attention is all you need"
      ]
    },
    {
      "cell_type": "markdown",
      "id": "9c39db15",
      "metadata": {
        "id": "9c39db15"
      },
      "source": [
        "Recently most of the natural language processing tasks are being dominated by the `Transformer` architecture, introduced in [Attention Is All You Need](https://arxiv.org/abs/1706.03762), which used a simple mechanism called `Neural Attention` as one of its building blocks. As the title suggests this architecture didn't require any recurrent layer. We now build a text classification using Attention and Positional Embeddings."
      ]
    },
    {
      "cell_type": "markdown",
      "id": "fb0fa502",
      "metadata": {
        "id": "fb0fa502"
      },
      "source": [
        "1. Transformer (attention) Block. \n",
        "\n",
        "    The concept of `Neural Attention` is fairly simple; i.e., not all input information seen by a model is equally important to the task at hand. Although this concept has been utilized at various different places as well, e.g., max pooling in ConvNets, but the kind of attention we are looking for should be `context aware`.\n",
        "\n",
        "    The attention mechanism allows output to focus attention on input while producing output while the self-attention model allows inputs to interact with each other; in other words, calculate attention of all other inputs with respect to one input.\n",
        "\n",
        "    In the paper, the authors proposed another type of attention mechanism called multi-headed attention which refers to the fact that the outer space of the self attention layer gets factored into a set of independent sub-spaces learned separately, where each subspace is called a \"head\". **You need to implement the multi-head attention layer**, supplying values for two parameters: `num_heads` and `key_dim`.\n",
        "\n",
        "    There is a learnable dense projection present after the multi-head attention which enables the layer to actually learn something, as opposed to being a purely stateless transformation. **You need to implement `dense_proj`**, use the `tf.keras.Sequential` to stack two dense layers: \n",
        "    \n",
        "        1. first dense layer with `dense_dim` units and activation function `relu`;\n",
        "        2. second dense layer with `embed_dim` units and no activation function."
      ]
    },
    {
      "cell_type": "code",
      "execution_count": 8,
      "id": "cc578b76",
      "metadata": {
        "id": "cc578b76"
      },
      "outputs": [],
      "source": [
        "import tensorflow as tf\n",
        "\n",
        "from tensorflow import keras\n",
        "from tensorflow.keras import layers\n",
        "\n",
        "class TransformerBlock(layers.Layer):\n",
        "    def __init__(self, embed_dim, dense_dim, num_heads, **kwargs):\n",
        "        self.embed_dim = embed_dim\n",
        "        self.dense_dim = dense_dim\n",
        "        self.num_heads = num_heads\n",
        "        # YOUR CODE HERE\n",
        "        self.attention = layers.MultiHeadAttention(num_heads=num_heads, key_dim=embed_dim)\n",
        "        # YOUR CODE HERE\n",
        "        self.dense_proj = keras.Sequential([\n",
        "            layers.Dense(dense_dim, activation=\"relu\"),\n",
        "            layers.Dense(embed_dim)\n",
        "        ])\n",
        "        self.layernorm1 = layers.LayerNormalization()\n",
        "        self.layernorm2 = layers.LayerNormalization()\n",
        "        super().__init__(**kwargs)\n",
        "    \n",
        "    def call(self, inputs, mask=None):\n",
        "        if mask is not None:\n",
        "            mask = mask[: tf.newaxis, :]\n",
        "        attention_output = self.attention(inputs, inputs, attention_mask=mask)\n",
        "        proj_input = self.layernorm1(inputs + attention_output)\n",
        "        proj_output = self.dense_proj(proj_input)\n",
        "        return self.layernorm2(proj_input + proj_output)\n",
        "    \n",
        "    def get_config(self):\n",
        "        config = super().get_confog()\n",
        "        config.update({\n",
        "            \"embed_dim\": self.embed_dim,\n",
        "            \"num_heads\": self.num_heads,\n",
        "            \"dense_dim\": self.dense_dim\n",
        "        })\n",
        "        return config"
      ]
    },
    {
      "cell_type": "markdown",
      "id": "e1cb0ce3",
      "metadata": {
        "id": "e1cb0ce3"
      },
      "source": [
        "1. Positional embedding. \n",
        "\n",
        "    The idea behind Positional Encoding is fairly simple as well: to give the model access to token order information, therefore we are going to add the token's position in the sentence to each word embedding.\n",
        "\n",
        "    Thus, one input word embedding will have two components: the usual token vector representing the token independent of any specific context, and a position vector representing the position of the token in the current sequence."
      ]
    },
    {
      "cell_type": "code",
      "execution_count": 9,
      "id": "2db9b3dd",
      "metadata": {
        "id": "2db9b3dd"
      },
      "outputs": [],
      "source": [
        "class PositionalEmbedding(layers.Layer):\n",
        "    def __init__(self, sequence_length, input_dim, output_dim, **kwargs):\n",
        "        # YOUR CODE HERE\n",
        "        self.token_embeddings = layers.Embedding(input_dim=input_dim, output_dim=output_dim)\n",
        "        # YOUR CODE HERE\n",
        "        self.position_embeddings = layers.Embedding(input_dim=sequence_length, output_dim=output_dim)\n",
        "        self.sequence_length = sequence_length\n",
        "        self.input_dim = input_dim\n",
        "        self.output_dim = output_dim\n",
        "        super().__init__(**kwargs)\n",
        "        \n",
        "    def call(self, inputs):\n",
        "        length = tf.shape(inputs)[-1]\n",
        "        positions = tf.range(start=0, limit=length, delta=1)\n",
        "        embedded_tokens = self.token_embeddings(inputs)\n",
        "        embedded_positions = self.position_embeddings(positions)\n",
        "        return embedded_tokens + embedded_positions\n",
        "        \n",
        "    def get_config(self):\n",
        "        config = super().get_config()\n",
        "        config.update({\n",
        "            \"output_dim\": self.output_dim,\n",
        "            \"sequence_length\": self.sequence_length,\n",
        "            \"input_dim\": self.input_dim,\n",
        "        })\n",
        "        return config"
      ]
    },
    {
      "cell_type": "markdown",
      "id": "afde9c93",
      "metadata": {
        "id": "afde9c93"
      },
      "source": [
        "1. Define some constants to parameterize the model."
      ]
    },
    {
      "cell_type": "code",
      "execution_count": 10,
      "id": "280fe4c7",
      "metadata": {
        "id": "280fe4c7"
      },
      "outputs": [],
      "source": [
        "VOCAB_SIZE = 10_000\n",
        "EMBED_DIM  = 256\n",
        "DENSE_DIM  = 32\n",
        "NUM_HEADS  = 2\n",
        "MAX_LEN    = 256"
      ]
    },
    {
      "cell_type": "markdown",
      "id": "9ecb3a8d",
      "metadata": {
        "id": "9ecb3a8d"
      },
      "source": [
        "1. Tokenizer. \n",
        "    \n",
        "    The tokenizer is a simple tool to convert a text into a sequence of tokens. It is used to convert the training data into a sequence of integers, which are then used as input to the model. \n",
        "\n",
        "    Use `Tokenizer` to create a tokenizer for the training data. Set the `num_words` parameter to the number of words to keep in the vocabulary, and `oov_token` to be `\"<unk>\"`."
      ]
    },
    {
      "cell_type": "code",
      "execution_count": 11,
      "id": "17d66cfc",
      "metadata": {
        "id": "17d66cfc"
      },
      "outputs": [],
      "source": [
        "from keras.preprocessing.text import Tokenizer\n",
        "\n",
        "# YOUR CODE HERE\n",
        "tokenizer = Tokenizer(num_words=VOCAB_SIZE, oov_token=\"<unk>\")\n",
        "tokenizer.fit_on_texts(X_train)"
      ]
    },
    {
      "cell_type": "markdown",
      "id": "eab4b7a0",
      "metadata": {
        "id": "eab4b7a0"
      },
      "source": [
        "1. Pad the sequences. \n",
        "    \n",
        "    The tokenizer outputs a sequence of integers, which are then used as input to the model. However, the model expects a sequence of fixed length. To pad the sequences to the same length, use `sequence.pad_sequences` from `keras.preprocessing`.\n",
        "\n",
        "    Complete function `preprocess` below to 1) tokenize the texts 2) pad the sequences to the same length."
      ]
    },
    {
      "cell_type": "code",
      "execution_count": 12,
      "id": "5GyEyhfuDybK",
      "metadata": {
        "id": "5GyEyhfuDybK"
      },
      "outputs": [],
      "source": [
        "from keras.preprocessing import sequence\n",
        "from keras.utils import pad_sequences\n",
        "\n",
        "def preprocess(texts, tokenizer, maxlen:int=MAX_LEN):\n",
        "    # YOUR CODE HERE\n",
        "    seqs = tokenizer.texts_to_sequences(texts)\n",
        "    # YOUR CODE HERE\n",
        "    tokenized_text = pad_sequences(seqs, maxlen=MAX_LEN)\n",
        "    return tokenized_text"
      ]
    },
    {
      "cell_type": "markdown",
      "id": "8f4f3291",
      "metadata": {
        "id": "8f4f3291"
      },
      "source": [
        "1. Preprocess the data. \n",
        "    \n",
        "    Use `preprocess` to preprocess the training, validation, and test data."
      ]
    },
    {
      "cell_type": "code",
      "execution_count": 13,
      "id": "041570a5",
      "metadata": {
        "id": "041570a5"
      },
      "outputs": [],
      "source": [
        "# YOUR CODE HERE\n",
        "X_train = preprocess(X_train, tokenizer)\n",
        "# YOUR CODE HERE\n",
        "X_valid = preprocess(X_valid, tokenizer)\n",
        "# YOUR CODE HERE\n",
        "X_test  = preprocess(X_test, tokenizer)"
      ]
    },
    {
      "cell_type": "markdown",
      "id": "6f65487a",
      "metadata": {
        "id": "6f65487a"
      },
      "source": [
        "1. Define the model with the following architecture: \n",
        "\n",
        "    * Input Layer\n",
        "    * Positional Embeddings\n",
        "    * Transformer Block\n",
        "    * Pooling\n",
        "    * Dropout\n",
        "    * Output Layer\n",
        "\n",
        "    If you are not familiar with keras functional API, take a read [here](https://keras.io/guides/functional_api/)."
      ]
    },
    {
      "cell_type": "code",
      "execution_count": 14,
      "id": "141d4968",
      "metadata": {
        "id": "141d4968"
      },
      "outputs": [],
      "source": [
        "inputs = keras.Input(shape=(None, ), dtype=\"int64\")\n",
        "# YOUR CODE HERE\n",
        "x = PositionalEmbedding(MAX_LEN, VOCAB_SIZE, EMBED_DIM)(inputs)\n",
        "# YOUR CODE HERE\n",
        "x = TransformerBlock(EMBED_DIM, DENSE_DIM, NUM_HEADS)(x)\n",
        "x = layers.GlobalMaxPooling1D()(x)\n",
        "x = layers.Dropout(0.5)(x)\n",
        "outputs = layers.Dense(20, activation='softmax')(x)\n",
        "\n",
        "model = keras.Model(inputs, outputs)"
      ]
    },
    {
      "cell_type": "markdown",
      "id": "7329eef2",
      "metadata": {
        "id": "7329eef2"
      },
      "source": [
        "1. Compile model. \n",
        "\n",
        "    Use 'adam' for the optimizer and accuracy for metrics, supply the correct value for loss. "
      ]
    },
    {
      "cell_type": "code",
      "execution_count": 15,
      "id": "f6491748",
      "metadata": {
        "id": "f6491748"
      },
      "outputs": [],
      "source": [
        "# YOUR CODE HERE\n",
        "model.compile(optimizer=\"adam\", loss=\"categorical_crossentropy\", metrics=[\"accuracy\"])"
      ]
    },
    {
      "cell_type": "code",
      "execution_count": 16,
      "id": "d1c00f20",
      "metadata": {
        "colab": {
          "base_uri": "https://localhost:8080/"
        },
        "id": "d1c00f20",
        "outputId": "ecd5a84c-bb37-4e46-b7b8-9c3673e405c2"
      },
      "outputs": [
        {
          "name": "stdout",
          "output_type": "stream",
          "text": [
            "Model: \"model\"\n",
            "_________________________________________________________________\n",
            " Layer (type)                Output Shape              Param #   \n",
            "=================================================================\n",
            " input_1 (InputLayer)        [(None, None)]            0         \n",
            "                                                                 \n",
            " positional_embedding (Posit  (None, None, 256)        2625536   \n",
            " ionalEmbedding)                                                 \n",
            "                                                                 \n",
            " transformer_block (Transfor  (None, None, 256)        543776    \n",
            " merBlock)                                                       \n",
            "                                                                 \n",
            " global_max_pooling1d (Globa  (None, 256)              0         \n",
            " lMaxPooling1D)                                                  \n",
            "                                                                 \n",
            " dropout (Dropout)           (None, 256)               0         \n",
            "                                                                 \n",
            " dense_2 (Dense)             (None, 20)                5140      \n",
            "                                                                 \n",
            "=================================================================\n",
            "Total params: 3,174,452\n",
            "Trainable params: 3,174,452\n",
            "Non-trainable params: 0\n",
            "_________________________________________________________________\n"
          ]
        }
      ],
      "source": [
        "model.summary()"
      ]
    },
    {
      "cell_type": "markdown",
      "id": "ZN4agZCL7E6e",
      "metadata": {
        "id": "ZN4agZCL7E6e"
      },
      "source": [
        "1. Add [EarlyStopping](https://keras.io/api/callbacks/early_stopping/) and [ReduceLROnPlateau](https://keras.io/api/callbacks/reduce_lr_on_plateau/) to stop training if the model does not improve a set metric after a given number of epochs. \n",
        "\n",
        "    Create an `EarlyStopping` object named `es` to stop training if the validation loss does not improve after 5 epochs. Set verbose to display messages when the callback takes an action and set `restore_best_weights` to restore model weights from the epoch with the best value of the monitored metric.\n",
        "    \n",
        "    Use `ReduceLROnPlateau` to reduce the learning rate if the validation loss does not improve after 3 epochs. Set verbose to display messages when the callback takes an action and use default values for other parameters.\n",
        "    "
      ]
    },
    {
      "cell_type": "code",
      "execution_count": 17,
      "id": "220efe0c",
      "metadata": {
        "id": "220efe0c"
      },
      "outputs": [],
      "source": [
        "# YOUR CODE HERE\n",
        "es = keras.callbacks.EarlyStopping(verbose=1, patience=5, restore_best_weights=True)\n",
        "# YOUR CODE HERE\n",
        "rlp = keras.callbacks.ReduceLROnPlateau(patience=3, verbose=1)"
      ]
    },
    {
      "cell_type": "markdown",
      "id": "58c75279",
      "metadata": {
        "id": "58c75279"
      },
      "source": [
        "1. Train the model. \n",
        "    \n",
        "    Supply both `EarlyStopping` and `ReduceLROnPlateau` for `callbacks`. Set `epochs` to 100."
      ]
    },
    {
      "cell_type": "code",
      "execution_count": 18,
      "id": "1c8d14d0",
      "metadata": {
        "colab": {
          "base_uri": "https://localhost:8080/"
        },
        "id": "1c8d14d0",
        "outputId": "583ba52e-fada-43e5-ac10-ac7b90cab742"
      },
      "outputs": [
        {
          "name": "stdout",
          "output_type": "stream",
          "text": [
            "Epoch 1/100\n",
            "319/319 [==============================] - 12s 26ms/step - loss: 2.9826 - accuracy: 0.2126 - val_loss: 1.2147 - val_accuracy: 0.6625 - lr: 0.0010\n",
            "Epoch 2/100\n",
            "319/319 [==============================] - 7s 22ms/step - loss: 0.9535 - accuracy: 0.7107 - val_loss: 0.5924 - val_accuracy: 0.8083 - lr: 0.0010\n",
            "Epoch 3/100\n",
            "319/319 [==============================] - 7s 22ms/step - loss: 0.3704 - accuracy: 0.8914 - val_loss: 0.4809 - val_accuracy: 0.8604 - lr: 0.0010\n",
            "Epoch 4/100\n",
            "319/319 [==============================] - 7s 23ms/step - loss: 0.1344 - accuracy: 0.9638 - val_loss: 0.5167 - val_accuracy: 0.8604 - lr: 0.0010\n",
            "Epoch 5/100\n",
            "319/319 [==============================] - 7s 23ms/step - loss: 0.0576 - accuracy: 0.9857 - val_loss: 0.5436 - val_accuracy: 0.8719 - lr: 0.0010\n",
            "Epoch 6/100\n",
            "317/319 [============================>.] - ETA: 0s - loss: 0.0278 - accuracy: 0.9936\n",
            "Epoch 6: ReduceLROnPlateau reducing learning rate to 0.00010000000474974513.\n",
            "319/319 [==============================] - 7s 23ms/step - loss: 0.0277 - accuracy: 0.9936 - val_loss: 0.6037 - val_accuracy: 0.8595 - lr: 0.0010\n",
            "Epoch 7/100\n",
            "319/319 [==============================] - 7s 23ms/step - loss: 0.0127 - accuracy: 0.9971 - val_loss: 0.5646 - val_accuracy: 0.8799 - lr: 1.0000e-04\n",
            "Epoch 8/100\n",
            "318/319 [============================>.] - ETA: 0s - loss: 0.0085 - accuracy: 0.9986Restoring model weights from the end of the best epoch: 3.\n",
            "319/319 [==============================] - 7s 23ms/step - loss: 0.0084 - accuracy: 0.9986 - val_loss: 0.5678 - val_accuracy: 0.8763 - lr: 1.0000e-04\n",
            "Epoch 8: early stopping\n"
          ]
        }
      ],
      "source": [
        "history = model.fit(\n",
        "    X_train, y_train, \n",
        "    validation_data=(X_valid, y_valid),\n",
        "    # YOUR CODE HERE\n",
        "    callbacks=[es, rlp], \n",
        "    epochs=100\n",
        ")"
      ]
    },
    {
      "cell_type": "markdown",
      "id": "4cd54e08",
      "metadata": {
        "id": "4cd54e08"
      },
      "source": [
        "1. Evaluate the trained model on the test data. \n",
        "    \n",
        "    Use `evaluate` to evaluate the model on the test data (accuracy will be around 0.77)."
      ]
    },
    {
      "cell_type": "code",
      "execution_count": 19,
      "id": "HCVwNQ0UqH_x",
      "metadata": {
        "colab": {
          "base_uri": "https://localhost:8080/"
        },
        "id": "HCVwNQ0UqH_x",
        "outputId": "fb599998-585b-45b6-cc8b-80d9f153c017"
      },
      "outputs": [
        {
          "name": "stdout",
          "output_type": "stream",
          "text": [
            "236/236 [==============================] - 2s 9ms/step - loss: 0.8672 - accuracy: 0.7649\n"
          ]
        },
        {
          "data": {
            "text/plain": [
              "[0.8672245740890503, 0.7648698687553406]"
            ]
          },
          "execution_count": 19,
          "metadata": {},
          "output_type": "execute_result"
        }
      ],
      "source": [
        "# YOUR CODE HERE\n",
        "model.evaluate(X_test, y_test)"
      ]
    },
    {
      "cell_type": "markdown",
      "id": "3f3bc7bf",
      "metadata": {
        "id": "3f3bc7bf"
      },
      "source": [
        "1. Visualize both loss and accuracy curves for the training and validation data. "
      ]
    },
    {
      "cell_type": "code",
      "execution_count": 20,
      "id": "20fdf465",
      "metadata": {
        "colab": {
          "base_uri": "https://localhost:8080/",
          "height": 787
        },
        "id": "20fdf465",
        "outputId": "f7a0e290-0759-4347-fe8f-be0face9d5e5"
      },
      "outputs": [
        {
          "data": {
            "image/png": "[encoded data removed]",
            "text/plain": [
              "<Figure size 1440x864 with 2 Axes>"
            ]
          },
          "metadata": {},
          "output_type": "display_data"
        }
      ],
      "source": [
        "# YOUR CODE HERE\n",
        "import matplotlib.pyplot as plt\n",
        "import seaborn as sns\n",
        "sns.set_style(\"whitegrid\")\n",
        "\n",
        "history = pd.DataFrame(history.history)\n",
        "fig, ax = plt.subplots(2, 1, figsize=(20, 12))\n",
        "fig.suptitle(\"Learning Curve\", fontsize=24)\n",
        "history[[\"loss\", \"val_loss\"]].plot(ax=ax[0])\n",
        "history[[\"accuracy\", \"val_accuracy\"]].plot(ax=ax[1])\n",
        "ax[0].set_title(\"Loss\", fontsize=18)\n",
        "ax[1].set_title(\"Accuarcy\", fontsize=18);"
      ]
    },
    {
      "cell_type": "markdown",
      "id": "e_aWlv8RYI-4",
      "metadata": {
        "id": "e_aWlv8RYI-4"
      },
      "source": [
        "# Task 3. Fine-tune pre-trained model via 🤗"
      ]
    },
    {
      "cell_type": "markdown",
      "id": "5490667e",
      "metadata": {
        "id": "5490667e"
      },
      "source": [
        "Substantial gains can be achieved by pre-training on a large corpus of text followed by fine-tuning a specific task. In this task, we will take advantage of [DistilBERT, a distilled version of BERT: smaller, faster, cheaper and lighter](https://arxiv.org/pdf/1910.01108.pdf), [`distillbert-uncased`](https://huggingface.co/distilbert-base-uncased) specifically, and fine-tune it on the 20 Newsgroups dataset."
      ]
    },
    {
      "cell_type": "markdown",
      "id": "b24afd2f",
      "metadata": {
        "id": "b24afd2f"
      },
      "source": [
        "1. Install [`Transformers`](https://huggingface.co/docs/transformers) and [`datasets`](https://huggingface.co/docs/datasets/index)."
      ]
    },
    {
      "cell_type": "code",
      "execution_count": 21,
      "id": "st1OGgI4HmqS",
      "metadata": {
        "id": "st1OGgI4HmqS"
      },
      "outputs": [],
      "source": [
        "! pip install -U -q transformers datasets"
      ]
    },
    {
      "cell_type": "markdown",
      "id": "vC5O5FiWYPHe",
      "metadata": {
        "id": "vC5O5FiWYPHe"
      },
      "source": [
        "1. Import the library and check its version.\n"
      ]
    },
    {
      "cell_type": "code",
      "execution_count": 22,
      "id": "maGzeTY8Ht85",
      "metadata": {
        "colab": {
          "base_uri": "https://localhost:8080/"
        },
        "id": "maGzeTY8Ht85",
        "outputId": "93c662f3-bb07-4f02-b406-4265a0cf018b"
      },
      "outputs": [
        {
          "name": "stdout",
          "output_type": "stream",
          "text": [
            "4.26.0\n"
          ]
        }
      ],
      "source": [
        "import transformers\n",
        "print(transformers.__version__)"
      ]
    },
    {
      "cell_type": "markdown",
      "id": "0dc75685",
      "metadata": {
        "id": "0dc75685"
      },
      "source": [
        "1. Create `Dataset` objects for train / validation / test sets that are better compatible with the `Transformers` API.\n",
        "\n",
        "    You can first create a `pd.DataFrame` with two fields: `text` and `label` with `data` and `target` from `train`. Then, call the `Dataset.from_pandas()` method to create a `Dataset` object and save it to `train_ds`. \n",
        "\n",
        "    Do the same for test set. "
      ]
    },
    {
      "cell_type": "code",
      "execution_count": 23,
      "id": "RnLjbcxvHl7u",
      "metadata": {
        "id": "RnLjbcxvHl7u"
      },
      "outputs": [],
      "source": [
        "from datasets import Dataset\n",
        "\n",
        "# YOUR CODE HERE\n",
        "train_df = pd.DataFrame([pd.Series(train[\"data\"]), pd.Series(train[\"target\"])]).T\n",
        "train_df.columns = [\"text\", \"label\"]\n",
        "train_ds = Dataset.from_pandas(train_df)\n",
        "\n",
        "# YOUR CODE HERE\n",
        "test_df  = pd.DataFrame([pd.Series(test[\"data\"]), pd.Series(test[\"target\"])]).T\n",
        "test_df.columns = [\"text\", \"label\"]\n",
        "test_ds  = Dataset.from_pandas(test_df)"
      ]
    },
    {
      "cell_type": "markdown",
      "id": "6699275d",
      "metadata": {
        "id": "6699275d"
      },
      "source": [
        "1. Cast column `label` as `datasets.features.ClassLabel` object using [`class_encode_column`](https://huggingface.co/docs/datasets/package_reference/main_classes#datasets.Dataset.class_encode_column) for both `train_ds` and `test_ds`."
      ]
    },
    {
      "cell_type": "code",
      "execution_count": 24,
      "id": "wwmqiDg8H9W7",
      "metadata": {
        "colab": {
          "base_uri": "https://localhost:8080/",
          "height": 145,
          "referenced_widgets": [
            "11461a795cae4c8aa9fd78ff56dc7fff",
            "9f764dfe1368450bb2eb655485301a5f",
            "95d2a8cdced04830b9dc62397e404c53",
            "1c6a4e1936864d34a157de90f17cbe76",
            "1030643e9c954d8e857d26661247b664",
            "b4b67f66002f42dbaa32fb5ae034a73f",
            "e7b44356468f4b46ae94111299a59704",
            "73560c1d8a234fa78c5d6c9417329b09",
            "99ee21ef733c4a5c9a9c05995b1e1755",
            "93b87e71feab40db845a4d5f0ba74008",
            "3e5df21937a349ffa3e1dc1ed873911d",
            "55b1951edc83444dae710cdf3d2aab04",
            "ab64d165e777465097b41282c9e5cd20",
            "363b4c9a6359476abad4aae4b48c7435",
            "756dae1e0f224ebc8f502fcf4dd9eca1",
            "c1200aff8a114369a8b56648168f9347",
            "5efcaaffc6684ae49c52363dfb27c3c3",
            "d7c21914147f49dc91587e8a85a10a3e",
            "367c1fe64ed546b781d45d0c7bbbfad9",
            "d1990c6302404cec9dc4057d3e3e8fef",
            "7ebae64841194e90b179423cce90faa2",
            "d0466cfe47f94884a47901ab9a60fae4",
            "eed47085544e4a4bbe6a5a200acc441c",
            "2098210bc0684e14a5c09ba2b1796450",
            "0e3670033c2244d9913058890ae176bf",
            "5fc6b311cd2543c5b042b8a6e8e41ac1",
            "d976a7e316534b55b318d7366f19179d",
            "31b5316164d64e35bb711568220bafa5",
            "15d6c5b39845447ab8affab1ee0d895b",
            "fdd09881f1004a6ea65884c332de5bd6",
            "63c91be3cb534aac888944b700caf1a9",
            "380b7c59d4e1430da4c0ba9e2aff3e7f",
            "b91257c3b1a442a99080e3326241f975",
            "669a45fa4c014ca0b08d71a9b5bb8b44",
            "c450f527e14745539d5e2795ffcfa4ce",
            "8cea5fed9ecd43269f7f0432c888e78b",
            "c2ebb646e0b643c8acf5014198ff9cf6",
            "f3ac3233399a4307ade9925fe8a8a7cb",
            "7ab8260a3e6d4af4bf5b43cc05b98c89",
            "2d3136d6bee74cdeaa17c2f63039e9be",
            "bf5fa79d6e91485a950b46663e0587f1",
            "b8628d6eb4ce4175be7e9fdd9216a92b",
            "17d4ad9d81d64a91b9686d6cd5194c59",
            "0ac2695b64bb40dd81fe9c040a2dbcd0"
          ]
        },
        "id": "wwmqiDg8H9W7",
        "outputId": "5e504751-6da8-482a-f553-f9c48ab8f33a"
      },
      "outputs": [
        {
          "data": {
            "application/vnd.jupyter.widget-view+json": {
              "model_id": "11461a795cae4c8aa9fd78ff56dc7fff",
              "version_major": 2,
              "version_minor": 0
            },
            "text/plain": [
              "Stringifying the column:   0%|          | 0/12 [00:00<?, ?ba/s]"
            ]
          },
          "metadata": {},
          "output_type": "display_data"
        },
        {
          "data": {
            "application/vnd.jupyter.widget-view+json": {
              "model_id": "55b1951edc83444dae710cdf3d2aab04",
              "version_major": 2,
              "version_minor": 0
            },
            "text/plain": [
              "Casting to class labels:   0%|          | 0/12 [00:00<?, ?ba/s]"
            ]
          },
          "metadata": {},
          "output_type": "display_data"
        },
        {
          "data": {
            "application/vnd.jupyter.widget-view+json": {
              "model_id": "eed47085544e4a4bbe6a5a200acc441c",
              "version_major": 2,
              "version_minor": 0
            },
            "text/plain": [
              "Stringifying the column:   0%|          | 0/8 [00:00<?, ?ba/s]"
            ]
          },
          "metadata": {},
          "output_type": "display_data"
        },
        {
          "data": {
            "application/vnd.jupyter.widget-view+json": {
              "model_id": "669a45fa4c014ca0b08d71a9b5bb8b44",
              "version_major": 2,
              "version_minor": 0
            },
            "text/plain": [
              "Casting to class labels:   0%|          | 0/8 [00:00<?, ?ba/s]"
            ]
          },
          "metadata": {},
          "output_type": "display_data"
        }
      ],
      "source": [
        "# YOUR CODE HERE\n",
        "train_ds = train_ds.class_encode_column(\"label\")\n",
        "# YOUR CODE HERE\n",
        "test_ds = test_ds.class_encode_column(\"label\")"
      ]
    },
    {
      "cell_type": "markdown",
      "id": "1fa82ebb",
      "metadata": {
        "id": "1fa82ebb"
      },
      "source": [
        "1. Create the validation set by apply [`train_ds.train_test_split()`](https://huggingface.co/docs/datasets/package_reference/main_classes#datasets.Dataset.train_test_split). Similarly, set the test size to 0.1, and set the random state to 19. Make sure the split is stratified by column `label`. Save the result to `train_dsd` as the result is a DatasetDict object.\n",
        "\n",
        "    Here's another way to do train / validation / test split: [ref](https://discuss.huggingface.co/t/how-to-split-main-dataset-into-train-dev-test-as-datasetdict/1090/2)"
      ]
    },
    {
      "cell_type": "code",
      "execution_count": 25,
      "id": "VvDkzSZsIEHx",
      "metadata": {
        "id": "VvDkzSZsIEHx"
      },
      "outputs": [],
      "source": [
        "# YOUR CODE HERE\n",
        "train_dsd = train_ds.train_test_split(test_size=0.1, seed=19, stratify_by_column=\"label\")"
      ]
    },
    {
      "cell_type": "code",
      "execution_count": 26,
      "id": "o3XIsj3Z94wi",
      "metadata": {
        "colab": {
          "base_uri": "https://localhost:8080/"
        },
        "id": "o3XIsj3Z94wi",
        "outputId": "2ea0dc04-5cc9-4ed2-a425-e93acce997ef"
      },
      "outputs": [
        {
          "data": {
            "text/plain": [
              "DatasetDict({\n",
              "    train: Dataset({\n",
              "        features: ['text', 'label'],\n",
              "        num_rows: 10182\n",
              "    })\n",
              "    test: Dataset({\n",
              "        features: ['text', 'label'],\n",
              "        num_rows: 1132\n",
              "    })\n",
              "})"
            ]
          },
          "execution_count": 26,
          "metadata": {},
          "output_type": "execute_result"
        }
      ],
      "source": [
        "train_dsd"
      ]
    },
    {
      "cell_type": "markdown",
      "id": "bf61e97c",
      "metadata": {
        "id": "bf61e97c"
      },
      "source": [
        "1. Yet the 'test' set inside `train_dsd` is meant for validation, the following code will rename the test set to validation and add a new DataSet object for the test set."
      ]
    },
    {
      "cell_type": "code",
      "execution_count": 27,
      "id": "Zwq78iZiIUxE",
      "metadata": {
        "id": "Zwq78iZiIUxE"
      },
      "outputs": [],
      "source": [
        "train_dsd[\"validation\"] = train_dsd[\"test\"]\n",
        "train_dsd[\"test\"] = test_ds"
      ]
    },
    {
      "cell_type": "code",
      "execution_count": 28,
      "id": "AkW4gXlqIhdq",
      "metadata": {
        "colab": {
          "base_uri": "https://localhost:8080/"
        },
        "id": "AkW4gXlqIhdq",
        "outputId": "a15ef979-3727-4790-8b48-c28f3527e38a"
      },
      "outputs": [
        {
          "data": {
            "text/plain": [
              "DatasetDict({\n",
              "    train: Dataset({\n",
              "        features: ['text', 'label'],\n",
              "        num_rows: 10182\n",
              "    })\n",
              "    test: Dataset({\n",
              "        features: ['text', 'label'],\n",
              "        num_rows: 7532\n",
              "    })\n",
              "    validation: Dataset({\n",
              "        features: ['text', 'label'],\n",
              "        num_rows: 1132\n",
              "    })\n",
              "})"
            ]
          },
          "execution_count": 28,
          "metadata": {},
          "output_type": "execute_result"
        }
      ],
      "source": [
        "train_dsd"
      ]
    },
    {
      "cell_type": "markdown",
      "id": "8ab80c71",
      "metadata": {
        "id": "8ab80c71"
      },
      "source": [
        "1. Load the DistilBERT tokenizer to process the text. \n",
        "    \n",
        "    Use [`AutoTokenizer`](https://huggingface.co/docs/transformers/v4.20.1/en/model_doc/auto#transformers.AutoTokenizer) to load the tokenizer for the given `model_checkpoint`. "
      ]
    },
    {
      "cell_type": "code",
      "execution_count": 29,
      "id": "Xhq4BycpLjwj",
      "metadata": {
        "id": "Xhq4BycpLjwj"
      },
      "outputs": [],
      "source": [
        "from transformers import AutoTokenizer\n",
        "\n",
        "model_checkpoint = \"distilbert-base-uncased\"\n",
        "# YOUR CODE HERE\n",
        "tokenizer = AutoTokenizer.from_pretrained(model_checkpoint)"
      ]
    },
    {
      "cell_type": "markdown",
      "id": "d0a26945",
      "metadata": {
        "id": "d0a26945"
      },
      "source": [
        "1. Create a preprocessing function to tokenize text, truncate and pad sequences to be no longer than DistilBERT’s maximum input length:"
      ]
    },
    {
      "cell_type": "code",
      "execution_count": 30,
      "id": "6hnc5JOejihx",
      "metadata": {
        "id": "6hnc5JOejihx"
      },
      "outputs": [],
      "source": [
        "def preprocess_function(examples):\n",
        "    return tokenizer(examples[\"text\"], truncation=True, padding=True, max_length=MAX_LEN)"
      ]
    },
    {
      "cell_type": "markdown",
      "id": "f8cc46b6",
      "metadata": {
        "id": "f8cc46b6"
      },
      "source": [
        "1. Use 🤗 Datasets [map](https://huggingface.co/docs/datasets/package_reference/main_classes#datasets.Dataset.map) function to apply the preprocessing function over the entire dataset. You can speed up the map function by setting `batched=True` to process multiple elements of the dataset at once:"
      ]
    },
    {
      "cell_type": "code",
      "execution_count": 31,
      "id": "6KWmC63UImNZ",
      "metadata": {
        "colab": {
          "base_uri": "https://localhost:8080/",
          "height": 113,
          "referenced_widgets": [
            "ba45050bfdbe47e58951b4569c9c1600",
            "ee711fe62e184f06bd66cf2ddb18b28c",
            "4f7cee0d4c9440859ab13011a948cb3d",
            "b347e006319d4e99833406e98da2289e",
            "9072d77b503b46169e7d7dc1a3716da5",
            "f29155a38d6a4f5fbe0459f1807d6cb2",
            "ac1f5a448f9e4111b5a5b3529833b248",
            "2adab2af574e4923b82eefd7a3748e29",
            "98b03651476242c9bccb1e25c32bbad8",
            "fe99d02a508d4f528ffef34f2be22a4c",
            "fcf3e0cf6310402bba9146ea2e199768",
            "57627668617a4704a50c90d1069e3b9d",
            "9b2078b02779463c8854f7e8551cc0cf",
            "29d724a506414287a000f01ce59d3aed",
            "7e16d07ad452449f9d21fc67c7015fb1",
            "b941834829b2447f8a27c8187456c5a2",
            "9d01cf6d7d2e461988e89dac65710ba7",
            "60492bb2b5594911b0598d7c9ea50985",
            "9077a26bc4474c7d95fb4be913137f08",
            "901e2722d0564e49b6f451c93df7b420",
            "98f1cd39f31643a3a6e6fb993743c4e2",
            "054639544ac7467a92f9007999d88e15",
            "2223213adb1e46ed810fff4112f98e76",
            "7f2fc9c982e1438fbfb93ef1859eb75d",
            "bb90ae894eb84c758a202454dcf04941",
            "ca871322eaae49f2a304a1d5ce5ada85",
            "063e209a98ab410ba31ef1b09d733c7d",
            "a5d182035abf436091cfc24b071d5673",
            "e53071a043ce42abba9a2ad1d930ccb1",
            "15716e0583284fdb88166f6d5685e304",
            "166c64ab982a46c08973d68ef1af02eb",
            "619f88603d1146c28764c48d7ab99377",
            "0a0183f5be194d689fedbd4818500608"
          ]
        },
        "id": "6KWmC63UImNZ",
        "outputId": "15809fcd-6a61-4494-b1f0-3459afcb41ce"
      },
      "outputs": [
        {
          "data": {
            "application/vnd.jupyter.widget-view+json": {
              "model_id": "ba45050bfdbe47e58951b4569c9c1600",
              "version_major": 2,
              "version_minor": 0
            },
            "text/plain": [
              "  0%|          | 0/11 [00:00<?, ?ba/s]"
            ]
          },
          "metadata": {},
          "output_type": "display_data"
        },
        {
          "data": {
            "application/vnd.jupyter.widget-view+json": {
              "model_id": "57627668617a4704a50c90d1069e3b9d",
              "version_major": 2,
              "version_minor": 0
            },
            "text/plain": [
              "  0%|          | 0/8 [00:00<?, ?ba/s]"
            ]
          },
          "metadata": {},
          "output_type": "display_data"
        },
        {
          "data": {
            "application/vnd.jupyter.widget-view+json": {
              "model_id": "2223213adb1e46ed810fff4112f98e76",
              "version_major": 2,
              "version_minor": 0
            },
            "text/plain": [
              "  0%|          | 0/2 [00:00<?, ?ba/s]"
            ]
          },
          "metadata": {},
          "output_type": "display_data"
        }
      ],
      "source": [
        "# YOUR CODE HERE\n",
        "tokenized_text = train_dsd.map(preprocess_function, batched=True)"
      ]
    },
    {
      "cell_type": "code",
      "execution_count": 32,
      "id": "3WvXKDqENoqa",
      "metadata": {
        "colab": {
          "base_uri": "https://localhost:8080/"
        },
        "id": "3WvXKDqENoqa",
        "outputId": "64a38418-9c7d-4182-904c-91e52b3bf306"
      },
      "outputs": [
        {
          "data": {
            "text/plain": [
              "DatasetDict({\n",
              "    train: Dataset({\n",
              "        features: ['text', 'label', 'input_ids', 'attention_mask'],\n",
              "        num_rows: 10182\n",
              "    })\n",
              "    test: Dataset({\n",
              "        features: ['text', 'label', 'input_ids', 'attention_mask'],\n",
              "        num_rows: 7532\n",
              "    })\n",
              "    validation: Dataset({\n",
              "        features: ['text', 'label', 'input_ids', 'attention_mask'],\n",
              "        num_rows: 1132\n",
              "    })\n",
              "})"
            ]
          },
          "execution_count": 32,
          "metadata": {},
          "output_type": "execute_result"
        }
      ],
      "source": [
        "tokenized_text"
      ]
    },
    {
      "cell_type": "markdown",
      "id": "78e1e59d",
      "metadata": {
        "id": "78e1e59d"
      },
      "source": [
        "1. Use [DataCollatorWithPadding](https://huggingface.co/docs/transformers/v4.20.1/en/main_classes/data_collator#transformers.DataCollatorWithPadding) to create a batch of examples. Set the type of Tensor to return as 'tf' as we will fine-tune the model in TensorFlow."
      ]
    },
    {
      "cell_type": "code",
      "execution_count": 33,
      "id": "D8xk28M1O4GO",
      "metadata": {
        "id": "D8xk28M1O4GO"
      },
      "outputs": [],
      "source": [
        "from transformers import DataCollatorWithPadding\n",
        "\n",
        "# YOUR CODE HERE\n",
        "data_collator = DataCollatorWithPadding(tokenizer, return_tensors=\"tf\")"
      ]
    },
    {
      "cell_type": "markdown",
      "id": "bc0fe020",
      "metadata": {
        "id": "bc0fe020"
      },
      "source": [
        "1. To fine-tune a model in TensorFlow, start by converting datasets to the `tf.data.Dataset` format with `to_tf_dataset`. \n",
        "\n",
        "    Specify inputs and labels in columns, whether to shuffle the dataset order, batch size, and the data collator:"
      ]
    },
    {
      "cell_type": "code",
      "execution_count": 34,
      "id": "25fh9ZxkIsI4",
      "metadata": {
        "colab": {
          "base_uri": "https://localhost:8080/"
        },
        "id": "25fh9ZxkIsI4",
        "outputId": "2c62380e-0443-40e0-9936-5d3a5059b0a4"
      },
      "outputs": [
        {
          "name": "stderr",
          "output_type": "stream",
          "text": [
            "You're using a DistilBertTokenizerFast tokenizer. Please note that with a fast tokenizer, using the `__call__` method is faster than using a method to encode the text followed by a call to the `pad` method to get a padded encoding.\n"
          ]
        }
      ],
      "source": [
        "BATCH_SIZE = 16\n",
        "\n",
        "tf_train_set = tokenized_text[\"train\"].to_tf_dataset(\n",
        "    # YOUR CODE HERE\n",
        "    columns=[\"input_ids\", \"attention_mask\"],\n",
        "    label_cols=[\"label\"],\n",
        "    # YOUR CODE HERE\n",
        "    shuffle=True,\n",
        "    batch_size=BATCH_SIZE,\n",
        "    collate_fn=data_collator,\n",
        ")\n",
        "\n",
        "tf_validation_set = tokenized_text[\"validation\"].to_tf_dataset(\n",
        "    # YOUR CODE HERE\n",
        "    columns=[\"input_ids\", \"attention_mask\"],\n",
        "    label_cols=[\"label\"],\n",
        "    # YOUR CODE HERE\n",
        "    shuffle=True,\n",
        "    batch_size=BATCH_SIZE,\n",
        "    collate_fn=data_collator,\n",
        ")\n",
        "\n",
        "tf_test_set = tokenized_text[\"test\"].to_tf_dataset(\n",
        "    # YOUR CODE HERE\n",
        "    columns=[\"input_ids\", \"attention_mask\"],\n",
        "    label_cols=[\"label\"],\n",
        "    # YOUR CODE HERE\n",
        "    shuffle=True,\n",
        "    batch_size=BATCH_SIZE,\n",
        "    collate_fn=data_collator,\n",
        ")"
      ]
    },
    {
      "cell_type": "markdown",
      "id": "e475a9f9",
      "metadata": {
        "id": "e475a9f9"
      },
      "source": [
        "1. Set up an optimizer function, learning rate schedule, and some training hyperparameters:"
      ]
    },
    {
      "cell_type": "code",
      "execution_count": 35,
      "id": "6ZJblOkpW27x",
      "metadata": {
        "id": "6ZJblOkpW27x"
      },
      "outputs": [],
      "source": [
        "from transformers import create_optimizer\n",
        "\n",
        "EPOCHS = 5\n",
        "batches_per_epoch = len(tokenized_text[\"train\"]) // BATCH_SIZE\n",
        "total_train_steps = int(batches_per_epoch * EPOCHS)\n",
        "optimizer, schedule = create_optimizer(init_lr=2e-5, num_warmup_steps=0, num_train_steps=total_train_steps)"
      ]
    },
    {
      "cell_type": "markdown",
      "id": "f2997fc2",
      "metadata": {
        "id": "f2997fc2"
      },
      "source": [
        "1. Load DistilBERT with  [TFAutoModelForSequenceClassification](https://huggingface.co/docs/transformers/v4.20.1/en/model_doc/auto#transformers.TFAutoModelForSequenceClassification) along with the number of expected labels:"
      ]
    },
    {
      "cell_type": "code",
      "execution_count": 36,
      "id": "vCnl8FHEYanJ",
      "metadata": {
        "colab": {
          "base_uri": "https://localhost:8080/"
        },
        "id": "vCnl8FHEYanJ",
        "outputId": "d24ad157-3007-44a5-b674-756d7b25dfc1"
      },
      "outputs": [
        {
          "name": "stderr",
          "output_type": "stream",
          "text": [
            "Some layers from the model checkpoint at distilbert-base-uncased were not used when initializing TFDistilBertForSequenceClassification: ['vocab_projector', 'vocab_transform', 'activation_13', 'vocab_layer_norm']\n",
            "- This IS expected if you are initializing TFDistilBertForSequenceClassification from the checkpoint of a model trained on another task or with another architecture (e.g. initializing a BertForSequenceClassification model from a BertForPreTraining model).\n",
            "- This IS NOT expected if you are initializing TFDistilBertForSequenceClassification from the checkpoint of a model that you expect to be exactly identical (initializing a BertForSequenceClassification model from a BertForSequenceClassification model).\n",
            "Some layers of TFDistilBertForSequenceClassification were not initialized from the model checkpoint at distilbert-base-uncased and are newly initialized: ['pre_classifier', 'classifier', 'dropout_20']\n",
            "You should probably TRAIN this model on a down-stream task to be able to use it for predictions and inference.\n"
          ]
        }
      ],
      "source": [
        "from transformers import TFAutoModelForSequenceClassification\n",
        "\n",
        "# YOUR CODE HERE\n",
        "my_bert = TFAutoModelForSequenceClassification.from_pretrained(\"distilbert-base-uncased\", num_labels=20)"
      ]
    },
    {
      "cell_type": "markdown",
      "id": "97cb0e7b",
      "metadata": {
        "id": "97cb0e7b"
      },
      "source": [
        "1. Don't forget to configure the model for training with [`compile`](https://keras.io/api/models/model_training_apis/#compile-method):"
      ]
    },
    {
      "cell_type": "code",
      "execution_count": 37,
      "id": "s7HGL_nCYfba",
      "metadata": {
        "colab": {
          "base_uri": "https://localhost:8080/"
        },
        "id": "s7HGL_nCYfba",
        "outputId": "7d73a5c3-7206-4b16-c74d-0ad42371b840"
      },
      "outputs": [
        {
          "name": "stderr",
          "output_type": "stream",
          "text": [
            "No loss specified in compile() - the model's internal loss computation will be used as the loss. Don't panic - this is a common way to train TensorFlow models in Transformers! To disable this behaviour please pass a loss argument, or explicitly pass `loss=None` if you do not want your model to compute a loss.\n"
          ]
        }
      ],
      "source": [
        "my_bert.compile(optimizer=optimizer,  metrics=[\"accuracy\"])"
      ]
    },
    {
      "cell_type": "markdown",
      "id": "QifyGkqhofwB",
      "metadata": {
        "id": "QifyGkqhofwB"
      },
      "source": [
        "1. Finally, let the fine-tuning start!\n",
        "\n",
        "    You may run into CoLab's usage limit, feel free to lower the parameter `epochs` to 3; even so, it could take ~10 minutes. "
      ]
    },
    {
      "cell_type": "code",
      "execution_count": 38,
      "id": "cJjfKl0TY0A0",
      "metadata": {
        "colab": {
          "base_uri": "https://localhost:8080/"
        },
        "id": "cJjfKl0TY0A0",
        "outputId": "497b0e9e-9a59-48bf-d435-342e9ad193a7"
      },
      "outputs": [
        {
          "name": "stdout",
          "output_type": "stream",
          "text": [
            "Epoch 1/3\n",
            "637/637 [==============================] - 296s 450ms/step - loss: 1.3324 - accuracy: 0.6697\n",
            "Epoch 2/3\n",
            "637/637 [==============================] - 290s 454ms/step - loss: 0.4351 - accuracy: 0.8823\n",
            "Epoch 3/3\n",
            "637/637 [==============================] - 289s 454ms/step - loss: 0.2312 - accuracy: 0.9398\n",
            "CPU times: user 10min 43s, sys: 15 s, total: 10min 58s\n",
            "Wall time: 15min 42s\n"
          ]
        },
        {
          "data": {
            "text/plain": [
              "<keras.callbacks.History at 0x7f899d739370>"
            ]
          },
          "execution_count": 38,
          "metadata": {},
          "output_type": "execute_result"
        }
      ],
      "source": [
        "%%time\n",
        "# YOUR CODE HERE\n",
        "my_bert.fit(x=tf_train_set, epochs=3, batch_size=BATCH_SIZE)"
      ]
    },
    {
      "cell_type": "markdown",
      "id": "vPEoQlMw5VBq",
      "metadata": {
        "id": "vPEoQlMw5VBq"
      },
      "source": [
        "1. As you are waiting for the fine-tuning to finish, how many parameters does DistilBERT have? How about BERT? What is the world's largest open Multilingual Language Model as of July 2022? (hint: 🌸) \n",
        "\n",
        "    - DistilBERT has 66 million parameters.\n",
        "    - BERT has approximately 340 million parameters.\n",
        "    - BLOOM is the largest with 176 billion parameters."
      ]
    },
    {
      "cell_type": "markdown",
      "id": "c4b23c02",
      "metadata": {
        "id": "c4b23c02"
      },
      "source": [
        "1. Evaluate the model on the test data. \n",
        "    \n",
        "    Use `evaluate` to evaluate the model on the test data (accuracy shall be around 0.84)."
      ]
    },
    {
      "cell_type": "code",
      "execution_count": 39,
      "id": "vyvGP0mY-4_x",
      "metadata": {
        "colab": {
          "base_uri": "https://localhost:8080/"
        },
        "id": "vyvGP0mY-4_x",
        "outputId": "79af7481-0f39-40ee-f9f0-911206a2a080"
      },
      "outputs": [
        {
          "name": "stdout",
          "output_type": "stream",
          "text": [
            "471/471 [==============================] - 74s 155ms/step - loss: 0.5673 - accuracy: 0.8398\n"
          ]
        }
      ],
      "source": [
        "# YOUR CODE HERE\n",
        "bert_loss, bert_acc = my_bert.evaluate(tf_test_set) "
      ]
    },
    {
      "attachments": {},
      "cell_type": "markdown",
      "id": "e03bc073",
      "metadata": {},
      "source": [
        "### Algorithm Understanding\n",
        "\n",
        "1. In the transformer architecture in the paper \"Attention Is All You Need\", how does Multi-head Attention work?\n",
        "\n",
        "- Multi-Head Attention refers to the mechanism of performing attention multiple times, with different linear projections, on the queries, keys, and values. \n",
        "- This results in multiple attention outputs that are concatenated and then fed through another linear projection to get the final attention output. \n",
        "- This allows the model to capture different types of information from the queries, keys and values with different attention heads. \n",
        "- The multi-head attention mechanism increases the model's capacity and improves its ability to capture complex relationships between inputs.\n",
        "\n",
        "### Interview Readiness\n",
        "\n",
        "1. What is the main idea behind Positional Encoding?\n",
        "\n",
        "- The main idea behind positional encoding in the transformer architecture is to add information about the position of each input in the sequence to the model's inputs, as the Transformer is not naturally equipped to handle sequential information due to its self-attention mechanism.\n",
        "\n",
        "2. What is EarlyStopping and why do we use it?\n",
        "\n",
        "- Early stopping is a regularization method used in training deep learning models, particularly when training neural networks.\n",
        "- It is used to prevent overfitting.\n",
        "\n",
        "3. How would explain what a transformer model is to business stakeholders (at a high level)?\n",
        "\n",
        "- A Transformer model is a type of Deep Learning architecture that is used to process sequential data, such as natural language text or time series data.\n",
        "- Transformer model works by encoding the input sequence into a set of continuous representations and then using these representations to make predictions. \n",
        "- The encoding process uses a mechanism called self-attention, which allows the model to dynamically weigh the importance of each element in the sequence based on its relationship to other elements. \n",
        "- This results in a rich representation of the input sequence that captures important relationships between elements."
      ]
    },
    {
      "cell_type": "markdown",
      "id": "ba3081e8",
      "metadata": {
        "id": "ba3081e8"
      },
      "source": [
        "1. Optional. If you are happy with the result, you can save the model to a file. \n",
        "    \n",
        "    One easy way to do it is to use [`save_pretrained()`](https://huggingface.co/docs/transformers/main_classes/model#transformers.PreTrainedModel.save_pretrained) to save the model to a file. Check [Export 🤗 Transformers Models](https://huggingface.co/docs/transformers/serialization) for deployment options."
      ]
    },
    {
      "cell_type": "markdown",
      "id": "uD3fV0qVn8qv",
      "metadata": {
        "id": "uD3fV0qVn8qv"
      },
      "source": [
        "# Acknowledgement & Reference"
      ]
    },
    {
      "cell_type": "markdown",
      "id": "TqTjj4qRoApb",
      "metadata": {
        "id": "TqTjj4qRoApb"
      },
      "source": [
        "- Part of the notebook is adapted from [Text Classification - Attention](https://www.kaggle.com/code/ritvik1909/text-classification-attention)\n",
        "- Part of the notebook is adapted from [Fine-tune a pretrained model with Hugging Face](https://huggingface.co/docs/transformers/training)\n",
        "- We used accuracy for metric, check out [Comprehensive Guide to Multiclass Classification Metrics](https://towardsdatascience.com/comprehensive-guide-on-multiclass-classification-metrics-af94cfb83fbd).\n",
        "- [BERT Explained: State of the art language model for NLP](https://towardsdatascience.com/bert-explained-state-of-the-art-language-model-for-nlp-f8b21a9b6270)\n",
        "- [Hugging Face: State-of-the-Art Natural Language Processing in ten lines of TensorFlow 2.0](https://medium.com/tensorflow/using-tensorflow-2-for-state-of-the-art-natural-language-processing-102445cda54a)\n",
        "- More readings on Transformers, check the Course Materials section on [CS25: Transformers United](https://web.stanford.edu/class/cs25/)\n"
      ]
    }
  ],
  "metadata": {
    "accelerator": "GPU",
    "colab": {
      "provenance": [],
      "toc_visible": true
    },
    "gpuClass": "standard",
    "kernelspec": {
      "display_name": "Python 3",
      "language": "python",
      "name": "python3"
    },
    "language_info": {
      "codemirror_mode": {
        "name": "ipython",
        "version": 3
      },
      "file_extension": ".py",
      "mimetype": "text/x-python",
      "name": "python",
      "nbconvert_exporter": "python",
      "pygments_lexer": "ipython3",
      "version": "3.9.6 (default, Oct 18 2022, 12:41:40) \n[Clang 14.0.0 (clang-1400.0.29.202)]"
    },
    "papermill": {
      "default_parameters": {},
      "duration": 126.733939,
      "end_time": "2022-03-31T16:26:20.094746",
      "environment_variables": {},
      "exception": null,
      "input_path": "__notebook__.ipynb",
      "output_path": "__notebook__.ipynb",
      "parameters": {},
      "start_time": "2022-03-31T16:24:13.360807",
      "version": "2.3.3"
    },
    "toc": {
      "base_numbering": 1,
      "nav_menu": {},
      "number_sections": true,
      "sideBar": true,
      "skip_h1_title": false,
      "title_cell": "Table of Contents",
      "title_sidebar": "Contents",
      "toc_cell": false,
      "toc_position": {},
      "toc_section_display": true,
      "toc_window_display": false
    },
    "vscode": {
      "interpreter": {
        "hash": "31f2aee4e71d21fbe5cf8b01ff0e069b9275f58929596ceb00d14d90e3e16cd6"
      }
    },
    "widgets": {
      "application/vnd.jupyter.widget-state+json": {
        "054639544ac7467a92f9007999d88e15": {
          "model_module": "@jupyter-widgets/controls",
          "model_module_version": "1.5.0",
          "model_name": "DescriptionStyleModel",
          "state": {
            "_model_module": "@jupyter-widgets/controls",
            "_model_module_version": "1.5.0",
            "_model_name": "DescriptionStyleModel",
            "_view_count": null,
            "_view_module": "@jupyter-widgets/base",
            "_view_module_version": "1.2.0",
            "_view_name": "StyleView",
            "description_width": ""
          }
        },
        "063e209a98ab410ba31ef1b09d733c7d": {
          "model_module": "@jupyter-widgets/base",
          "model_module_version": "1.2.0",
          "model_name": "LayoutModel",
          "state": {
            "_model_module": "@jupyter-widgets/base",
            "_model_module_version": "1.2.0",
            "_model_name": "LayoutModel",
            "_view_count": null,
            "_view_module": "@jupyter-widgets/base",
            "_view_module_version": "1.2.0",
            "_view_name": "LayoutView",
            "align_content": null,
            "align_items": null,
            "align_self": null,
            "border": null,
            "bottom": null,
            "display": null,
            "flex": null,
            "flex_flow": null,
            "grid_area": null,
            "grid_auto_columns": null,
            "grid_auto_flow": null,
            "grid_auto_rows": null,
            "grid_column": null,
            "grid_gap": null,
            "grid_row": null,
            "grid_template_areas": null,
            "grid_template_columns": null,
            "grid_template_rows": null,
            "height": null,
            "justify_content": null,
            "justify_items": null,
            "left": null,
            "margin": null,
            "max_height": null,
            "max_width": null,
            "min_height": null,
            "min_width": null,
            "object_fit": null,
            "object_position": null,
            "order": null,
            "overflow": null,
            "overflow_x": null,
            "overflow_y": null,
            "padding": null,
            "right": null,
            "top": null,
            "visibility": null,
            "width": null
          }
        },
        "0a0183f5be194d689fedbd4818500608": {
          "model_module": "@jupyter-widgets/controls",
          "model_module_version": "1.5.0",
          "model_name": "DescriptionStyleModel",
          "state": {
            "_model_module": "@jupyter-widgets/controls",
            "_model_module_version": "1.5.0",
            "_model_name": "DescriptionStyleModel",
            "_view_count": null,
            "_view_module": "@jupyter-widgets/base",
            "_view_module_version": "1.2.0",
            "_view_name": "StyleView",
            "description_width": ""
          }
        },
        "0ac2695b64bb40dd81fe9c040a2dbcd0": {
          "model_module": "@jupyter-widgets/controls",
          "model_module_version": "1.5.0",
          "model_name": "DescriptionStyleModel",
          "state": {
            "_model_module": "@jupyter-widgets/controls",
            "_model_module_version": "1.5.0",
            "_model_name": "DescriptionStyleModel",
            "_view_count": null,
            "_view_module": "@jupyter-widgets/base",
            "_view_module_version": "1.2.0",
            "_view_name": "StyleView",
            "description_width": ""
          }
        },
        "0e3670033c2244d9913058890ae176bf": {
          "model_module": "@jupyter-widgets/controls",
          "model_module_version": "1.5.0",
          "model_name": "FloatProgressModel",
          "state": {
            "_dom_classes": [],
            "_model_module": "@jupyter-widgets/controls",
            "_model_module_version": "1.5.0",
            "_model_name": "FloatProgressModel",
            "_view_count": null,
            "_view_module": "@jupyter-widgets/controls",
            "_view_module_version": "1.5.0",
            "_view_name": "ProgressView",
            "bar_style": "success",
            "description": "",
            "description_tooltip": null,
            "layout": "IPY_MODEL_fdd09881f1004a6ea65884c332de5bd6",
            "max": 8,
            "min": 0,
            "orientation": "horizontal",
            "style": "IPY_MODEL_63c91be3cb534aac888944b700caf1a9",
            "value": 8
          }
        },
        "1030643e9c954d8e857d26661247b664": {
          "model_module": "@jupyter-widgets/base",
          "model_module_version": "1.2.0",
          "model_name": "LayoutModel",
          "state": {
            "_model_module": "@jupyter-widgets/base",
            "_model_module_version": "1.2.0",
            "_model_name": "LayoutModel",
            "_view_count": null,
            "_view_module": "@jupyter-widgets/base",
            "_view_module_version": "1.2.0",
            "_view_name": "LayoutView",
            "align_content": null,
            "align_items": null,
            "align_self": null,
            "border": null,
            "bottom": null,
            "display": null,
            "flex": null,
            "flex_flow": null,
            "grid_area": null,
            "grid_auto_columns": null,
            "grid_auto_flow": null,
            "grid_auto_rows": null,
            "grid_column": null,
            "grid_gap": null,
            "grid_row": null,
            "grid_template_areas": null,
            "grid_template_columns": null,
            "grid_template_rows": null,
            "height": null,
            "justify_content": null,
            "justify_items": null,
            "left": null,
            "margin": null,
            "max_height": null,
            "max_width": null,
            "min_height": null,
            "min_width": null,
            "object_fit": null,
            "object_position": null,
            "order": null,
            "overflow": null,
            "overflow_x": null,
            "overflow_y": null,
            "padding": null,
            "right": null,
            "top": null,
            "visibility": null,
            "width": null
          }
        },
        "11461a795cae4c8aa9fd78ff56dc7fff": {
          "model_module": "@jupyter-widgets/controls",
          "model_module_version": "1.5.0",
          "model_name": "HBoxModel",
          "state": {
            "_dom_classes": [],
            "_model_module": "@jupyter-widgets/controls",
            "_model_module_version": "1.5.0",
            "_model_name": "HBoxModel",
            "_view_count": null,
            "_view_module": "@jupyter-widgets/controls",
            "_view_module_version": "1.5.0",
            "_view_name": "HBoxView",
            "box_style": "",
            "children": [
              "IPY_MODEL_9f764dfe1368450bb2eb655485301a5f",
              "IPY_MODEL_95d2a8cdced04830b9dc62397e404c53",
              "IPY_MODEL_1c6a4e1936864d34a157de90f17cbe76"
            ],
            "layout": "IPY_MODEL_1030643e9c954d8e857d26661247b664"
          }
        },
        "15716e0583284fdb88166f6d5685e304": {
          "model_module": "@jupyter-widgets/base",
          "model_module_version": "1.2.0",
          "model_name": "LayoutModel",
          "state": {
            "_model_module": "@jupyter-widgets/base",
            "_model_module_version": "1.2.0",
            "_model_name": "LayoutModel",
            "_view_count": null,
            "_view_module": "@jupyter-widgets/base",
            "_view_module_version": "1.2.0",
            "_view_name": "LayoutView",
            "align_content": null,
            "align_items": null,
            "align_self": null,
            "border": null,
            "bottom": null,
            "display": null,
            "flex": null,
            "flex_flow": null,
            "grid_area": null,
            "grid_auto_columns": null,
            "grid_auto_flow": null,
            "grid_auto_rows": null,
            "grid_column": null,
            "grid_gap": null,
            "grid_row": null,
            "grid_template_areas": null,
            "grid_template_columns": null,
            "grid_template_rows": null,
            "height": null,
            "justify_content": null,
            "justify_items": null,
            "left": null,
            "margin": null,
            "max_height": null,
            "max_width": null,
            "min_height": null,
            "min_width": null,
            "object_fit": null,
            "object_position": null,
            "order": null,
            "overflow": null,
            "overflow_x": null,
            "overflow_y": null,
            "padding": null,
            "right": null,
            "top": null,
            "visibility": null,
            "width": null
          }
        },
        "15d6c5b39845447ab8affab1ee0d895b": {
          "model_module": "@jupyter-widgets/controls",
          "model_module_version": "1.5.0",
          "model_name": "DescriptionStyleModel",
          "state": {
            "_model_module": "@jupyter-widgets/controls",
            "_model_module_version": "1.5.0",
            "_model_name": "DescriptionStyleModel",
            "_view_count": null,
            "_view_module": "@jupyter-widgets/base",
            "_view_module_version": "1.2.0",
            "_view_name": "StyleView",
            "description_width": ""
          }
        },
        "166c64ab982a46c08973d68ef1af02eb": {
          "model_module": "@jupyter-widgets/controls",
          "model_module_version": "1.5.0",
          "model_name": "ProgressStyleModel",
          "state": {
            "_model_module": "@jupyter-widgets/controls",
            "_model_module_version": "1.5.0",
            "_model_name": "ProgressStyleModel",
            "_view_count": null,
            "_view_module": "@jupyter-widgets/base",
            "_view_module_version": "1.2.0",
            "_view_name": "StyleView",
            "bar_color": null,
            "description_width": ""
          }
        },
        "17d4ad9d81d64a91b9686d6cd5194c59": {
          "model_module": "@jupyter-widgets/base",
          "model_module_version": "1.2.0",
          "model_name": "LayoutModel",
          "state": {
            "_model_module": "@jupyter-widgets/base",
            "_model_module_version": "1.2.0",
            "_model_name": "LayoutModel",
            "_view_count": null,
            "_view_module": "@jupyter-widgets/base",
            "_view_module_version": "1.2.0",
            "_view_name": "LayoutView",
            "align_content": null,
            "align_items": null,
            "align_self": null,
            "border": null,
            "bottom": null,
            "display": null,
            "flex": null,
            "flex_flow": null,
            "grid_area": null,
            "grid_auto_columns": null,
            "grid_auto_flow": null,
            "grid_auto_rows": null,
            "grid_column": null,
            "grid_gap": null,
            "grid_row": null,
            "grid_template_areas": null,
            "grid_template_columns": null,
            "grid_template_rows": null,
            "height": null,
            "justify_content": null,
            "justify_items": null,
            "left": null,
            "margin": null,
            "max_height": null,
            "max_width": null,
            "min_height": null,
            "min_width": null,
            "object_fit": null,
            "object_position": null,
            "order": null,
            "overflow": null,
            "overflow_x": null,
            "overflow_y": null,
            "padding": null,
            "right": null,
            "top": null,
            "visibility": null,
            "width": null
          }
        },
        "1c6a4e1936864d34a157de90f17cbe76": {
          "model_module": "@jupyter-widgets/controls",
          "model_module_version": "1.5.0",
          "model_name": "HTMLModel",
          "state": {
            "_dom_classes": [],
            "_model_module": "@jupyter-widgets/controls",
            "_model_module_version": "1.5.0",
            "_model_name": "HTMLModel",
            "_view_count": null,
            "_view_module": "@jupyter-widgets/controls",
            "_view_module_version": "1.5.0",
            "_view_name": "HTMLView",
            "description": "",
            "description_tooltip": null,
            "layout": "IPY_MODEL_93b87e71feab40db845a4d5f0ba74008",
            "placeholder": "​",
            "style": "IPY_MODEL_3e5df21937a349ffa3e1dc1ed873911d",
            "value": " 12/12 [00:00&lt;00:00, 156.21ba/s]"
          }
        },
        "2098210bc0684e14a5c09ba2b1796450": {
          "model_module": "@jupyter-widgets/controls",
          "model_module_version": "1.5.0",
          "model_name": "HTMLModel",
          "state": {
            "_dom_classes": [],
            "_model_module": "@jupyter-widgets/controls",
            "_model_module_version": "1.5.0",
            "_model_name": "HTMLModel",
            "_view_count": null,
            "_view_module": "@jupyter-widgets/controls",
            "_view_module_version": "1.5.0",
            "_view_name": "HTMLView",
            "description": "",
            "description_tooltip": null,
            "layout": "IPY_MODEL_31b5316164d64e35bb711568220bafa5",
            "placeholder": "​",
            "style": "IPY_MODEL_15d6c5b39845447ab8affab1ee0d895b",
            "value": "Stringifying the column: 100%"
          }
        },
        "2223213adb1e46ed810fff4112f98e76": {
          "model_module": "@jupyter-widgets/controls",
          "model_module_version": "1.5.0",
          "model_name": "HBoxModel",
          "state": {
            "_dom_classes": [],
            "_model_module": "@jupyter-widgets/controls",
            "_model_module_version": "1.5.0",
            "_model_name": "HBoxModel",
            "_view_count": null,
            "_view_module": "@jupyter-widgets/controls",
            "_view_module_version": "1.5.0",
            "_view_name": "HBoxView",
            "box_style": "",
            "children": [
              "IPY_MODEL_7f2fc9c982e1438fbfb93ef1859eb75d",
              "IPY_MODEL_bb90ae894eb84c758a202454dcf04941",
              "IPY_MODEL_ca871322eaae49f2a304a1d5ce5ada85"
            ],
            "layout": "IPY_MODEL_063e209a98ab410ba31ef1b09d733c7d"
          }
        },
        "29d724a506414287a000f01ce59d3aed": {
          "model_module": "@jupyter-widgets/controls",
          "model_module_version": "1.5.0",
          "model_name": "FloatProgressModel",
          "state": {
            "_dom_classes": [],
            "_model_module": "@jupyter-widgets/controls",
            "_model_module_version": "1.5.0",
            "_model_name": "FloatProgressModel",
            "_view_count": null,
            "_view_module": "@jupyter-widgets/controls",
            "_view_module_version": "1.5.0",
            "_view_name": "ProgressView",
            "bar_style": "success",
            "description": "",
            "description_tooltip": null,
            "layout": "IPY_MODEL_9077a26bc4474c7d95fb4be913137f08",
            "max": 8,
            "min": 0,
            "orientation": "horizontal",
            "style": "IPY_MODEL_901e2722d0564e49b6f451c93df7b420",
            "value": 8
          }
        },
        "2adab2af574e4923b82eefd7a3748e29": {
          "model_module": "@jupyter-widgets/base",
          "model_module_version": "1.2.0",
          "model_name": "LayoutModel",
          "state": {
            "_model_module": "@jupyter-widgets/base",
            "_model_module_version": "1.2.0",
            "_model_name": "LayoutModel",
            "_view_count": null,
            "_view_module": "@jupyter-widgets/base",
            "_view_module_version": "1.2.0",
            "_view_name": "LayoutView",
            "align_content": null,
            "align_items": null,
            "align_self": null,
            "border": null,
            "bottom": null,
            "display": null,
            "flex": null,
            "flex_flow": null,
            "grid_area": null,
            "grid_auto_columns": null,
            "grid_auto_flow": null,
            "grid_auto_rows": null,
            "grid_column": null,
            "grid_gap": null,
            "grid_row": null,
            "grid_template_areas": null,
            "grid_template_columns": null,
            "grid_template_rows": null,
            "height": null,
            "justify_content": null,
            "justify_items": null,
            "left": null,
            "margin": null,
            "max_height": null,
            "max_width": null,
            "min_height": null,
            "min_width": null,
            "object_fit": null,
            "object_position": null,
            "order": null,
            "overflow": null,
            "overflow_x": null,
            "overflow_y": null,
            "padding": null,
            "right": null,
            "top": null,
            "visibility": null,
            "width": null
          }
        },
        "2d3136d6bee74cdeaa17c2f63039e9be": {
          "model_module": "@jupyter-widgets/controls",
          "model_module_version": "1.5.0",
          "model_name": "DescriptionStyleModel",
          "state": {
            "_model_module": "@jupyter-widgets/controls",
            "_model_module_version": "1.5.0",
            "_model_name": "DescriptionStyleModel",
            "_view_count": null,
            "_view_module": "@jupyter-widgets/base",
            "_view_module_version": "1.2.0",
            "_view_name": "StyleView",
            "description_width": ""
          }
        },
        "31b5316164d64e35bb711568220bafa5": {
          "model_module": "@jupyter-widgets/base",
          "model_module_version": "1.2.0",
          "model_name": "LayoutModel",
          "state": {
            "_model_module": "@jupyter-widgets/base",
            "_model_module_version": "1.2.0",
            "_model_name": "LayoutModel",
            "_view_count": null,
            "_view_module": "@jupyter-widgets/base",
            "_view_module_version": "1.2.0",
            "_view_name": "LayoutView",
            "align_content": null,
            "align_items": null,
            "align_self": null,
            "border": null,
            "bottom": null,
            "display": null,
            "flex": null,
            "flex_flow": null,
            "grid_area": null,
            "grid_auto_columns": null,
            "grid_auto_flow": null,
            "grid_auto_rows": null,
            "grid_column": null,
            "grid_gap": null,
            "grid_row": null,
            "grid_template_areas": null,
            "grid_template_columns": null,
            "grid_template_rows": null,
            "height": null,
            "justify_content": null,
            "justify_items": null,
            "left": null,
            "margin": null,
            "max_height": null,
            "max_width": null,
            "min_height": null,
            "min_width": null,
            "object_fit": null,
            "object_position": null,
            "order": null,
            "overflow": null,
            "overflow_x": null,
            "overflow_y": null,
            "padding": null,
            "right": null,
            "top": null,
            "visibility": null,
            "width": null
          }
        },
        "363b4c9a6359476abad4aae4b48c7435": {
          "model_module": "@jupyter-widgets/controls",
          "model_module_version": "1.5.0",
          "model_name": "FloatProgressModel",
          "state": {
            "_dom_classes": [],
            "_model_module": "@jupyter-widgets/controls",
            "_model_module_version": "1.5.0",
            "_model_name": "FloatProgressModel",
            "_view_count": null,
            "_view_module": "@jupyter-widgets/controls",
            "_view_module_version": "1.5.0",
            "_view_name": "ProgressView",
            "bar_style": "success",
            "description": "",
            "description_tooltip": null,
            "layout": "IPY_MODEL_367c1fe64ed546b781d45d0c7bbbfad9",
            "max": 12,
            "min": 0,
            "orientation": "horizontal",
            "style": "IPY_MODEL_d1990c6302404cec9dc4057d3e3e8fef",
            "value": 12
          }
        },
        "367c1fe64ed546b781d45d0c7bbbfad9": {
          "model_module": "@jupyter-widgets/base",
          "model_module_version": "1.2.0",
          "model_name": "LayoutModel",
          "state": {
            "_model_module": "@jupyter-widgets/base",
            "_model_module_version": "1.2.0",
            "_model_name": "LayoutModel",
            "_view_count": null,
            "_view_module": "@jupyter-widgets/base",
            "_view_module_version": "1.2.0",
            "_view_name": "LayoutView",
            "align_content": null,
            "align_items": null,
            "align_self": null,
            "border": null,
            "bottom": null,
            "display": null,
            "flex": null,
            "flex_flow": null,
            "grid_area": null,
            "grid_auto_columns": null,
            "grid_auto_flow": null,
            "grid_auto_rows": null,
            "grid_column": null,
            "grid_gap": null,
            "grid_row": null,
            "grid_template_areas": null,
            "grid_template_columns": null,
            "grid_template_rows": null,
            "height": null,
            "justify_content": null,
            "justify_items": null,
            "left": null,
            "margin": null,
            "max_height": null,
            "max_width": null,
            "min_height": null,
            "min_width": null,
            "object_fit": null,
            "object_position": null,
            "order": null,
            "overflow": null,
            "overflow_x": null,
            "overflow_y": null,
            "padding": null,
            "right": null,
            "top": null,
            "visibility": null,
            "width": null
          }
        },
        "380b7c59d4e1430da4c0ba9e2aff3e7f": {
          "model_module": "@jupyter-widgets/base",
          "model_module_version": "1.2.0",
          "model_name": "LayoutModel",
          "state": {
            "_model_module": "@jupyter-widgets/base",
            "_model_module_version": "1.2.0",
            "_model_name": "LayoutModel",
            "_view_count": null,
            "_view_module": "@jupyter-widgets/base",
            "_view_module_version": "1.2.0",
            "_view_name": "LayoutView",
            "align_content": null,
            "align_items": null,
            "align_self": null,
            "border": null,
            "bottom": null,
            "display": null,
            "flex": null,
            "flex_flow": null,
            "grid_area": null,
            "grid_auto_columns": null,
            "grid_auto_flow": null,
            "grid_auto_rows": null,
            "grid_column": null,
            "grid_gap": null,
            "grid_row": null,
            "grid_template_areas": null,
            "grid_template_columns": null,
            "grid_template_rows": null,
            "height": null,
            "justify_content": null,
            "justify_items": null,
            "left": null,
            "margin": null,
            "max_height": null,
            "max_width": null,
            "min_height": null,
            "min_width": null,
            "object_fit": null,
            "object_position": null,
            "order": null,
            "overflow": null,
            "overflow_x": null,
            "overflow_y": null,
            "padding": null,
            "right": null,
            "top": null,
            "visibility": null,
            "width": null
          }
        },
        "3e5df21937a349ffa3e1dc1ed873911d": {
          "model_module": "@jupyter-widgets/controls",
          "model_module_version": "1.5.0",
          "model_name": "DescriptionStyleModel",
          "state": {
            "_model_module": "@jupyter-widgets/controls",
            "_model_module_version": "1.5.0",
            "_model_name": "DescriptionStyleModel",
            "_view_count": null,
            "_view_module": "@jupyter-widgets/base",
            "_view_module_version": "1.2.0",
            "_view_name": "StyleView",
            "description_width": ""
          }
        },
        "4f7cee0d4c9440859ab13011a948cb3d": {
          "model_module": "@jupyter-widgets/controls",
          "model_module_version": "1.5.0",
          "model_name": "FloatProgressModel",
          "state": {
            "_dom_classes": [],
            "_model_module": "@jupyter-widgets/controls",
            "_model_module_version": "1.5.0",
            "_model_name": "FloatProgressModel",
            "_view_count": null,
            "_view_module": "@jupyter-widgets/controls",
            "_view_module_version": "1.5.0",
            "_view_name": "ProgressView",
            "bar_style": "success",
            "description": "",
            "description_tooltip": null,
            "layout": "IPY_MODEL_2adab2af574e4923b82eefd7a3748e29",
            "max": 11,
            "min": 0,
            "orientation": "horizontal",
            "style": "IPY_MODEL_98b03651476242c9bccb1e25c32bbad8",
            "value": 11
          }
        },
        "55b1951edc83444dae710cdf3d2aab04": {
          "model_module": "@jupyter-widgets/controls",
          "model_module_version": "1.5.0",
          "model_name": "HBoxModel",
          "state": {
            "_dom_classes": [],
            "_model_module": "@jupyter-widgets/controls",
            "_model_module_version": "1.5.0",
            "_model_name": "HBoxModel",
            "_view_count": null,
            "_view_module": "@jupyter-widgets/controls",
            "_view_module_version": "1.5.0",
            "_view_name": "HBoxView",
            "box_style": "",
            "children": [
              "IPY_MODEL_ab64d165e777465097b41282c9e5cd20",
              "IPY_MODEL_363b4c9a6359476abad4aae4b48c7435",
              "IPY_MODEL_756dae1e0f224ebc8f502fcf4dd9eca1"
            ],
            "layout": "IPY_MODEL_c1200aff8a114369a8b56648168f9347"
          }
        },
        "57627668617a4704a50c90d1069e3b9d": {
          "model_module": "@jupyter-widgets/controls",
          "model_module_version": "1.5.0",
          "model_name": "HBoxModel",
          "state": {
            "_dom_classes": [],
            "_model_module": "@jupyter-widgets/controls",
            "_model_module_version": "1.5.0",
            "_model_name": "HBoxModel",
            "_view_count": null,
            "_view_module": "@jupyter-widgets/controls",
            "_view_module_version": "1.5.0",
            "_view_name": "HBoxView",
            "box_style": "",
            "children": [
              "IPY_MODEL_9b2078b02779463c8854f7e8551cc0cf",
              "IPY_MODEL_29d724a506414287a000f01ce59d3aed",
              "IPY_MODEL_7e16d07ad452449f9d21fc67c7015fb1"
            ],
            "layout": "IPY_MODEL_b941834829b2447f8a27c8187456c5a2"
          }
        },
        "5efcaaffc6684ae49c52363dfb27c3c3": {
          "model_module": "@jupyter-widgets/base",
          "model_module_version": "1.2.0",
          "model_name": "LayoutModel",
          "state": {
            "_model_module": "@jupyter-widgets/base",
            "_model_module_version": "1.2.0",
            "_model_name": "LayoutModel",
            "_view_count": null,
            "_view_module": "@jupyter-widgets/base",
            "_view_module_version": "1.2.0",
            "_view_name": "LayoutView",
            "align_content": null,
            "align_items": null,
            "align_self": null,
            "border": null,
            "bottom": null,
            "display": null,
            "flex": null,
            "flex_flow": null,
            "grid_area": null,
            "grid_auto_columns": null,
            "grid_auto_flow": null,
            "grid_auto_rows": null,
            "grid_column": null,
            "grid_gap": null,
            "grid_row": null,
            "grid_template_areas": null,
            "grid_template_columns": null,
            "grid_template_rows": null,
            "height": null,
            "justify_content": null,
            "justify_items": null,
            "left": null,
            "margin": null,
            "max_height": null,
            "max_width": null,
            "min_height": null,
            "min_width": null,
            "object_fit": null,
            "object_position": null,
            "order": null,
            "overflow": null,
            "overflow_x": null,
            "overflow_y": null,
            "padding": null,
            "right": null,
            "top": null,
            "visibility": null,
            "width": null
          }
        },
        "5fc6b311cd2543c5b042b8a6e8e41ac1": {
          "model_module": "@jupyter-widgets/controls",
          "model_module_version": "1.5.0",
          "model_name": "HTMLModel",
          "state": {
            "_dom_classes": [],
            "_model_module": "@jupyter-widgets/controls",
            "_model_module_version": "1.5.0",
            "_model_name": "HTMLModel",
            "_view_count": null,
            "_view_module": "@jupyter-widgets/controls",
            "_view_module_version": "1.5.0",
            "_view_name": "HTMLView",
            "description": "",
            "description_tooltip": null,
            "layout": "IPY_MODEL_380b7c59d4e1430da4c0ba9e2aff3e7f",
            "placeholder": "​",
            "style": "IPY_MODEL_b91257c3b1a442a99080e3326241f975",
            "value": " 8/8 [00:00&lt;00:00, 157.12ba/s]"
          }
        },
        "60492bb2b5594911b0598d7c9ea50985": {
          "model_module": "@jupyter-widgets/controls",
          "model_module_version": "1.5.0",
          "model_name": "DescriptionStyleModel",
          "state": {
            "_model_module": "@jupyter-widgets/controls",
            "_model_module_version": "1.5.0",
            "_model_name": "DescriptionStyleModel",
            "_view_count": null,
            "_view_module": "@jupyter-widgets/base",
            "_view_module_version": "1.2.0",
            "_view_name": "StyleView",
            "description_width": ""
          }
        },
        "619f88603d1146c28764c48d7ab99377": {
          "model_module": "@jupyter-widgets/base",
          "model_module_version": "1.2.0",
          "model_name": "LayoutModel",
          "state": {
            "_model_module": "@jupyter-widgets/base",
            "_model_module_version": "1.2.0",
            "_model_name": "LayoutModel",
            "_view_count": null,
            "_view_module": "@jupyter-widgets/base",
            "_view_module_version": "1.2.0",
            "_view_name": "LayoutView",
            "align_content": null,
            "align_items": null,
            "align_self": null,
            "border": null,
            "bottom": null,
            "display": null,
            "flex": null,
            "flex_flow": null,
            "grid_area": null,
            "grid_auto_columns": null,
            "grid_auto_flow": null,
            "grid_auto_rows": null,
            "grid_column": null,
            "grid_gap": null,
            "grid_row": null,
            "grid_template_areas": null,
            "grid_template_columns": null,
            "grid_template_rows": null,
            "height": null,
            "justify_content": null,
            "justify_items": null,
            "left": null,
            "margin": null,
            "max_height": null,
            "max_width": null,
            "min_height": null,
            "min_width": null,
            "object_fit": null,
            "object_position": null,
            "order": null,
            "overflow": null,
            "overflow_x": null,
            "overflow_y": null,
            "padding": null,
            "right": null,
            "top": null,
            "visibility": null,
            "width": null
          }
        },
        "63c91be3cb534aac888944b700caf1a9": {
          "model_module": "@jupyter-widgets/controls",
          "model_module_version": "1.5.0",
          "model_name": "ProgressStyleModel",
          "state": {
            "_model_module": "@jupyter-widgets/controls",
            "_model_module_version": "1.5.0",
            "_model_name": "ProgressStyleModel",
            "_view_count": null,
            "_view_module": "@jupyter-widgets/base",
            "_view_module_version": "1.2.0",
            "_view_name": "StyleView",
            "bar_color": null,
            "description_width": ""
          }
        },
        "669a45fa4c014ca0b08d71a9b5bb8b44": {
          "model_module": "@jupyter-widgets/controls",
          "model_module_version": "1.5.0",
          "model_name": "HBoxModel",
          "state": {
            "_dom_classes": [],
            "_model_module": "@jupyter-widgets/controls",
            "_model_module_version": "1.5.0",
            "_model_name": "HBoxModel",
            "_view_count": null,
            "_view_module": "@jupyter-widgets/controls",
            "_view_module_version": "1.5.0",
            "_view_name": "HBoxView",
            "box_style": "",
            "children": [
              "IPY_MODEL_c450f527e14745539d5e2795ffcfa4ce",
              "IPY_MODEL_8cea5fed9ecd43269f7f0432c888e78b",
              "IPY_MODEL_c2ebb646e0b643c8acf5014198ff9cf6"
            ],
            "layout": "IPY_MODEL_f3ac3233399a4307ade9925fe8a8a7cb"
          }
        },
        "73560c1d8a234fa78c5d6c9417329b09": {
          "model_module": "@jupyter-widgets/base",
          "model_module_version": "1.2.0",
          "model_name": "LayoutModel",
          "state": {
            "_model_module": "@jupyter-widgets/base",
            "_model_module_version": "1.2.0",
            "_model_name": "LayoutModel",
            "_view_count": null,
            "_view_module": "@jupyter-widgets/base",
            "_view_module_version": "1.2.0",
            "_view_name": "LayoutView",
            "align_content": null,
            "align_items": null,
            "align_self": null,
            "border": null,
            "bottom": null,
            "display": null,
            "flex": null,
            "flex_flow": null,
            "grid_area": null,
            "grid_auto_columns": null,
            "grid_auto_flow": null,
            "grid_auto_rows": null,
            "grid_column": null,
            "grid_gap": null,
            "grid_row": null,
            "grid_template_areas": null,
            "grid_template_columns": null,
            "grid_template_rows": null,
            "height": null,
            "justify_content": null,
            "justify_items": null,
            "left": null,
            "margin": null,
            "max_height": null,
            "max_width": null,
            "min_height": null,
            "min_width": null,
            "object_fit": null,
            "object_position": null,
            "order": null,
            "overflow": null,
            "overflow_x": null,
            "overflow_y": null,
            "padding": null,
            "right": null,
            "top": null,
            "visibility": null,
            "width": null
          }
        },
        "756dae1e0f224ebc8f502fcf4dd9eca1": {
          "model_module": "@jupyter-widgets/controls",
          "model_module_version": "1.5.0",
          "model_name": "HTMLModel",
          "state": {
            "_dom_classes": [],
            "_model_module": "@jupyter-widgets/controls",
            "_model_module_version": "1.5.0",
            "_model_name": "HTMLModel",
            "_view_count": null,
            "_view_module": "@jupyter-widgets/controls",
            "_view_module_version": "1.5.0",
            "_view_name": "HTMLView",
            "description": "",
            "description_tooltip": null,
            "layout": "IPY_MODEL_7ebae64841194e90b179423cce90faa2",
            "placeholder": "​",
            "style": "IPY_MODEL_d0466cfe47f94884a47901ab9a60fae4",
            "value": " 12/12 [00:00&lt;00:00, 134.95ba/s]"
          }
        },
        "7ab8260a3e6d4af4bf5b43cc05b98c89": {
          "model_module": "@jupyter-widgets/base",
          "model_module_version": "1.2.0",
          "model_name": "LayoutModel",
          "state": {
            "_model_module": "@jupyter-widgets/base",
            "_model_module_version": "1.2.0",
            "_model_name": "LayoutModel",
            "_view_count": null,
            "_view_module": "@jupyter-widgets/base",
            "_view_module_version": "1.2.0",
            "_view_name": "LayoutView",
            "align_content": null,
            "align_items": null,
            "align_self": null,
            "border": null,
            "bottom": null,
            "display": null,
            "flex": null,
            "flex_flow": null,
            "grid_area": null,
            "grid_auto_columns": null,
            "grid_auto_flow": null,
            "grid_auto_rows": null,
            "grid_column": null,
            "grid_gap": null,
            "grid_row": null,
            "grid_template_areas": null,
            "grid_template_columns": null,
            "grid_template_rows": null,
            "height": null,
            "justify_content": null,
            "justify_items": null,
            "left": null,
            "margin": null,
            "max_height": null,
            "max_width": null,
            "min_height": null,
            "min_width": null,
            "object_fit": null,
            "object_position": null,
            "order": null,
            "overflow": null,
            "overflow_x": null,
            "overflow_y": null,
            "padding": null,
            "right": null,
            "top": null,
            "visibility": null,
            "width": null
          }
        },
        "7e16d07ad452449f9d21fc67c7015fb1": {
          "model_module": "@jupyter-widgets/controls",
          "model_module_version": "1.5.0",
          "model_name": "HTMLModel",
          "state": {
            "_dom_classes": [],
            "_model_module": "@jupyter-widgets/controls",
            "_model_module_version": "1.5.0",
            "_model_name": "HTMLModel",
            "_view_count": null,
            "_view_module": "@jupyter-widgets/controls",
            "_view_module_version": "1.5.0",
            "_view_name": "HTMLView",
            "description": "",
            "description_tooltip": null,
            "layout": "IPY_MODEL_98f1cd39f31643a3a6e6fb993743c4e2",
            "placeholder": "​",
            "style": "IPY_MODEL_054639544ac7467a92f9007999d88e15",
            "value": " 8/8 [00:11&lt;00:00,  1.24s/ba]"
          }
        },
        "7ebae64841194e90b179423cce90faa2": {
          "model_module": "@jupyter-widgets/base",
          "model_module_version": "1.2.0",
          "model_name": "LayoutModel",
          "state": {
            "_model_module": "@jupyter-widgets/base",
            "_model_module_version": "1.2.0",
            "_model_name": "LayoutModel",
            "_view_count": null,
            "_view_module": "@jupyter-widgets/base",
            "_view_module_version": "1.2.0",
            "_view_name": "LayoutView",
            "align_content": null,
            "align_items": null,
            "align_self": null,
            "border": null,
            "bottom": null,
            "display": null,
            "flex": null,
            "flex_flow": null,
            "grid_area": null,
            "grid_auto_columns": null,
            "grid_auto_flow": null,
            "grid_auto_rows": null,
            "grid_column": null,
            "grid_gap": null,
            "grid_row": null,
            "grid_template_areas": null,
            "grid_template_columns": null,
            "grid_template_rows": null,
            "height": null,
            "justify_content": null,
            "justify_items": null,
            "left": null,
            "margin": null,
            "max_height": null,
            "max_width": null,
            "min_height": null,
            "min_width": null,
            "object_fit": null,
            "object_position": null,
            "order": null,
            "overflow": null,
            "overflow_x": null,
            "overflow_y": null,
            "padding": null,
            "right": null,
            "top": null,
            "visibility": null,
            "width": null
          }
        },
        "7f2fc9c982e1438fbfb93ef1859eb75d": {
          "model_module": "@jupyter-widgets/controls",
          "model_module_version": "1.5.0",
          "model_name": "HTMLModel",
          "state": {
            "_dom_classes": [],
            "_model_module": "@jupyter-widgets/controls",
            "_model_module_version": "1.5.0",
            "_model_name": "HTMLModel",
            "_view_count": null,
            "_view_module": "@jupyter-widgets/controls",
            "_view_module_version": "1.5.0",
            "_view_name": "HTMLView",
            "description": "",
            "description_tooltip": null,
            "layout": "IPY_MODEL_a5d182035abf436091cfc24b071d5673",
            "placeholder": "​",
            "style": "IPY_MODEL_e53071a043ce42abba9a2ad1d930ccb1",
            "value": "100%"
          }
        },
        "8cea5fed9ecd43269f7f0432c888e78b": {
          "model_module": "@jupyter-widgets/controls",
          "model_module_version": "1.5.0",
          "model_name": "FloatProgressModel",
          "state": {
            "_dom_classes": [],
            "_model_module": "@jupyter-widgets/controls",
            "_model_module_version": "1.5.0",
            "_model_name": "FloatProgressModel",
            "_view_count": null,
            "_view_module": "@jupyter-widgets/controls",
            "_view_module_version": "1.5.0",
            "_view_name": "ProgressView",
            "bar_style": "success",
            "description": "",
            "description_tooltip": null,
            "layout": "IPY_MODEL_bf5fa79d6e91485a950b46663e0587f1",
            "max": 8,
            "min": 0,
            "orientation": "horizontal",
            "style": "IPY_MODEL_b8628d6eb4ce4175be7e9fdd9216a92b",
            "value": 8
          }
        },
        "901e2722d0564e49b6f451c93df7b420": {
          "model_module": "@jupyter-widgets/controls",
          "model_module_version": "1.5.0",
          "model_name": "ProgressStyleModel",
          "state": {
            "_model_module": "@jupyter-widgets/controls",
            "_model_module_version": "1.5.0",
            "_model_name": "ProgressStyleModel",
            "_view_count": null,
            "_view_module": "@jupyter-widgets/base",
            "_view_module_version": "1.2.0",
            "_view_name": "StyleView",
            "bar_color": null,
            "description_width": ""
          }
        },
        "9072d77b503b46169e7d7dc1a3716da5": {
          "model_module": "@jupyter-widgets/base",
          "model_module_version": "1.2.0",
          "model_name": "LayoutModel",
          "state": {
            "_model_module": "@jupyter-widgets/base",
            "_model_module_version": "1.2.0",
            "_model_name": "LayoutModel",
            "_view_count": null,
            "_view_module": "@jupyter-widgets/base",
            "_view_module_version": "1.2.0",
            "_view_name": "LayoutView",
            "align_content": null,
            "align_items": null,
            "align_self": null,
            "border": null,
            "bottom": null,
            "display": null,
            "flex": null,
            "flex_flow": null,
            "grid_area": null,
            "grid_auto_columns": null,
            "grid_auto_flow": null,
            "grid_auto_rows": null,
            "grid_column": null,
            "grid_gap": null,
            "grid_row": null,
            "grid_template_areas": null,
            "grid_template_columns": null,
            "grid_template_rows": null,
            "height": null,
            "justify_content": null,
            "justify_items": null,
            "left": null,
            "margin": null,
            "max_height": null,
            "max_width": null,
            "min_height": null,
            "min_width": null,
            "object_fit": null,
            "object_position": null,
            "order": null,
            "overflow": null,
            "overflow_x": null,
            "overflow_y": null,
            "padding": null,
            "right": null,
            "top": null,
            "visibility": null,
            "width": null
          }
        },
        "9077a26bc4474c7d95fb4be913137f08": {
          "model_module": "@jupyter-widgets/base",
          "model_module_version": "1.2.0",
          "model_name": "LayoutModel",
          "state": {
            "_model_module": "@jupyter-widgets/base",
            "_model_module_version": "1.2.0",
            "_model_name": "LayoutModel",
            "_view_count": null,
            "_view_module": "@jupyter-widgets/base",
            "_view_module_version": "1.2.0",
            "_view_name": "LayoutView",
            "align_content": null,
            "align_items": null,
            "align_self": null,
            "border": null,
            "bottom": null,
            "display": null,
            "flex": null,
            "flex_flow": null,
            "grid_area": null,
            "grid_auto_columns": null,
            "grid_auto_flow": null,
            "grid_auto_rows": null,
            "grid_column": null,
            "grid_gap": null,
            "grid_row": null,
            "grid_template_areas": null,
            "grid_template_columns": null,
            "grid_template_rows": null,
            "height": null,
            "justify_content": null,
            "justify_items": null,
            "left": null,
            "margin": null,
            "max_height": null,
            "max_width": null,
            "min_height": null,
            "min_width": null,
            "object_fit": null,
            "object_position": null,
            "order": null,
            "overflow": null,
            "overflow_x": null,
            "overflow_y": null,
            "padding": null,
            "right": null,
            "top": null,
            "visibility": null,
            "width": null
          }
        },
        "93b87e71feab40db845a4d5f0ba74008": {
          "model_module": "@jupyter-widgets/base",
          "model_module_version": "1.2.0",
          "model_name": "LayoutModel",
          "state": {
            "_model_module": "@jupyter-widgets/base",
            "_model_module_version": "1.2.0",
            "_model_name": "LayoutModel",
            "_view_count": null,
            "_view_module": "@jupyter-widgets/base",
            "_view_module_version": "1.2.0",
            "_view_name": "LayoutView",
            "align_content": null,
            "align_items": null,
            "align_self": null,
            "border": null,
            "bottom": null,
            "display": null,
            "flex": null,
            "flex_flow": null,
            "grid_area": null,
            "grid_auto_columns": null,
            "grid_auto_flow": null,
            "grid_auto_rows": null,
            "grid_column": null,
            "grid_gap": null,
            "grid_row": null,
            "grid_template_areas": null,
            "grid_template_columns": null,
            "grid_template_rows": null,
            "height": null,
            "justify_content": null,
            "justify_items": null,
            "left": null,
            "margin": null,
            "max_height": null,
            "max_width": null,
            "min_height": null,
            "min_width": null,
            "object_fit": null,
            "object_position": null,
            "order": null,
            "overflow": null,
            "overflow_x": null,
            "overflow_y": null,
            "padding": null,
            "right": null,
            "top": null,
            "visibility": null,
            "width": null
          }
        },
        "95d2a8cdced04830b9dc62397e404c53": {
          "model_module": "@jupyter-widgets/controls",
          "model_module_version": "1.5.0",
          "model_name": "FloatProgressModel",
          "state": {
            "_dom_classes": [],
            "_model_module": "@jupyter-widgets/controls",
            "_model_module_version": "1.5.0",
            "_model_name": "FloatProgressModel",
            "_view_count": null,
            "_view_module": "@jupyter-widgets/controls",
            "_view_module_version": "1.5.0",
            "_view_name": "ProgressView",
            "bar_style": "success",
            "description": "",
            "description_tooltip": null,
            "layout": "IPY_MODEL_73560c1d8a234fa78c5d6c9417329b09",
            "max": 12,
            "min": 0,
            "orientation": "horizontal",
            "style": "IPY_MODEL_99ee21ef733c4a5c9a9c05995b1e1755",
            "value": 12
          }
        },
        "98b03651476242c9bccb1e25c32bbad8": {
          "model_module": "@jupyter-widgets/controls",
          "model_module_version": "1.5.0",
          "model_name": "ProgressStyleModel",
          "state": {
            "_model_module": "@jupyter-widgets/controls",
            "_model_module_version": "1.5.0",
            "_model_name": "ProgressStyleModel",
            "_view_count": null,
            "_view_module": "@jupyter-widgets/base",
            "_view_module_version": "1.2.0",
            "_view_name": "StyleView",
            "bar_color": null,
            "description_width": ""
          }
        },
        "98f1cd39f31643a3a6e6fb993743c4e2": {
          "model_module": "@jupyter-widgets/base",
          "model_module_version": "1.2.0",
          "model_name": "LayoutModel",
          "state": {
            "_model_module": "@jupyter-widgets/base",
            "_model_module_version": "1.2.0",
            "_model_name": "LayoutModel",
            "_view_count": null,
            "_view_module": "@jupyter-widgets/base",
            "_view_module_version": "1.2.0",
            "_view_name": "LayoutView",
            "align_content": null,
            "align_items": null,
            "align_self": null,
            "border": null,
            "bottom": null,
            "display": null,
            "flex": null,
            "flex_flow": null,
            "grid_area": null,
            "grid_auto_columns": null,
            "grid_auto_flow": null,
            "grid_auto_rows": null,
            "grid_column": null,
            "grid_gap": null,
            "grid_row": null,
            "grid_template_areas": null,
            "grid_template_columns": null,
            "grid_template_rows": null,
            "height": null,
            "justify_content": null,
            "justify_items": null,
            "left": null,
            "margin": null,
            "max_height": null,
            "max_width": null,
            "min_height": null,
            "min_width": null,
            "object_fit": null,
            "object_position": null,
            "order": null,
            "overflow": null,
            "overflow_x": null,
            "overflow_y": null,
            "padding": null,
            "right": null,
            "top": null,
            "visibility": null,
            "width": null
          }
        },
        "99ee21ef733c4a5c9a9c05995b1e1755": {
          "model_module": "@jupyter-widgets/controls",
          "model_module_version": "1.5.0",
          "model_name": "ProgressStyleModel",
          "state": {
            "_model_module": "@jupyter-widgets/controls",
            "_model_module_version": "1.5.0",
            "_model_name": "ProgressStyleModel",
            "_view_count": null,
            "_view_module": "@jupyter-widgets/base",
            "_view_module_version": "1.2.0",
            "_view_name": "StyleView",
            "bar_color": null,
            "description_width": ""
          }
        },
        "9b2078b02779463c8854f7e8551cc0cf": {
          "model_module": "@jupyter-widgets/controls",
          "model_module_version": "1.5.0",
          "model_name": "HTMLModel",
          "state": {
            "_dom_classes": [],
            "_model_module": "@jupyter-widgets/controls",
            "_model_module_version": "1.5.0",
            "_model_name": "HTMLModel",
            "_view_count": null,
            "_view_module": "@jupyter-widgets/controls",
            "_view_module_version": "1.5.0",
            "_view_name": "HTMLView",
            "description": "",
            "description_tooltip": null,
            "layout": "IPY_MODEL_9d01cf6d7d2e461988e89dac65710ba7",
            "placeholder": "​",
            "style": "IPY_MODEL_60492bb2b5594911b0598d7c9ea50985",
            "value": "100%"
          }
        },
        "9d01cf6d7d2e461988e89dac65710ba7": {
          "model_module": "@jupyter-widgets/base",
          "model_module_version": "1.2.0",
          "model_name": "LayoutModel",
          "state": {
            "_model_module": "@jupyter-widgets/base",
            "_model_module_version": "1.2.0",
            "_model_name": "LayoutModel",
            "_view_count": null,
            "_view_module": "@jupyter-widgets/base",
            "_view_module_version": "1.2.0",
            "_view_name": "LayoutView",
            "align_content": null,
            "align_items": null,
            "align_self": null,
            "border": null,
            "bottom": null,
            "display": null,
            "flex": null,
            "flex_flow": null,
            "grid_area": null,
            "grid_auto_columns": null,
            "grid_auto_flow": null,
            "grid_auto_rows": null,
            "grid_column": null,
            "grid_gap": null,
            "grid_row": null,
            "grid_template_areas": null,
            "grid_template_columns": null,
            "grid_template_rows": null,
            "height": null,
            "justify_content": null,
            "justify_items": null,
            "left": null,
            "margin": null,
            "max_height": null,
            "max_width": null,
            "min_height": null,
            "min_width": null,
            "object_fit": null,
            "object_position": null,
            "order": null,
            "overflow": null,
            "overflow_x": null,
            "overflow_y": null,
            "padding": null,
            "right": null,
            "top": null,
            "visibility": null,
            "width": null
          }
        },
        "9f764dfe1368450bb2eb655485301a5f": {
          "model_module": "@jupyter-widgets/controls",
          "model_module_version": "1.5.0",
          "model_name": "HTMLModel",
          "state": {
            "_dom_classes": [],
            "_model_module": "@jupyter-widgets/controls",
            "_model_module_version": "1.5.0",
            "_model_name": "HTMLModel",
            "_view_count": null,
            "_view_module": "@jupyter-widgets/controls",
            "_view_module_version": "1.5.0",
            "_view_name": "HTMLView",
            "description": "",
            "description_tooltip": null,
            "layout": "IPY_MODEL_b4b67f66002f42dbaa32fb5ae034a73f",
            "placeholder": "​",
            "style": "IPY_MODEL_e7b44356468f4b46ae94111299a59704",
            "value": "Stringifying the column: 100%"
          }
        },
        "a5d182035abf436091cfc24b071d5673": {
          "model_module": "@jupyter-widgets/base",
          "model_module_version": "1.2.0",
          "model_name": "LayoutModel",
          "state": {
            "_model_module": "@jupyter-widgets/base",
            "_model_module_version": "1.2.0",
            "_model_name": "LayoutModel",
            "_view_count": null,
            "_view_module": "@jupyter-widgets/base",
            "_view_module_version": "1.2.0",
            "_view_name": "LayoutView",
            "align_content": null,
            "align_items": null,
            "align_self": null,
            "border": null,
            "bottom": null,
            "display": null,
            "flex": null,
            "flex_flow": null,
            "grid_area": null,
            "grid_auto_columns": null,
            "grid_auto_flow": null,
            "grid_auto_rows": null,
            "grid_column": null,
            "grid_gap": null,
            "grid_row": null,
            "grid_template_areas": null,
            "grid_template_columns": null,
            "grid_template_rows": null,
            "height": null,
            "justify_content": null,
            "justify_items": null,
            "left": null,
            "margin": null,
            "max_height": null,
            "max_width": null,
            "min_height": null,
            "min_width": null,
            "object_fit": null,
            "object_position": null,
            "order": null,
            "overflow": null,
            "overflow_x": null,
            "overflow_y": null,
            "padding": null,
            "right": null,
            "top": null,
            "visibility": null,
            "width": null
          }
        },
        "ab64d165e777465097b41282c9e5cd20": {
          "model_module": "@jupyter-widgets/controls",
          "model_module_version": "1.5.0",
          "model_name": "HTMLModel",
          "state": {
            "_dom_classes": [],
            "_model_module": "@jupyter-widgets/controls",
            "_model_module_version": "1.5.0",
            "_model_name": "HTMLModel",
            "_view_count": null,
            "_view_module": "@jupyter-widgets/controls",
            "_view_module_version": "1.5.0",
            "_view_name": "HTMLView",
            "description": "",
            "description_tooltip": null,
            "layout": "IPY_MODEL_5efcaaffc6684ae49c52363dfb27c3c3",
            "placeholder": "​",
            "style": "IPY_MODEL_d7c21914147f49dc91587e8a85a10a3e",
            "value": "Casting to class labels: 100%"
          }
        },
        "ac1f5a448f9e4111b5a5b3529833b248": {
          "model_module": "@jupyter-widgets/controls",
          "model_module_version": "1.5.0",
          "model_name": "DescriptionStyleModel",
          "state": {
            "_model_module": "@jupyter-widgets/controls",
            "_model_module_version": "1.5.0",
            "_model_name": "DescriptionStyleModel",
            "_view_count": null,
            "_view_module": "@jupyter-widgets/base",
            "_view_module_version": "1.2.0",
            "_view_name": "StyleView",
            "description_width": ""
          }
        },
        "b347e006319d4e99833406e98da2289e": {
          "model_module": "@jupyter-widgets/controls",
          "model_module_version": "1.5.0",
          "model_name": "HTMLModel",
          "state": {
            "_dom_classes": [],
            "_model_module": "@jupyter-widgets/controls",
            "_model_module_version": "1.5.0",
            "_model_name": "HTMLModel",
            "_view_count": null,
            "_view_module": "@jupyter-widgets/controls",
            "_view_module_version": "1.5.0",
            "_view_name": "HTMLView",
            "description": "",
            "description_tooltip": null,
            "layout": "IPY_MODEL_fe99d02a508d4f528ffef34f2be22a4c",
            "placeholder": "​",
            "style": "IPY_MODEL_fcf3e0cf6310402bba9146ea2e199768",
            "value": " 11/11 [00:14&lt;00:00,  1.21s/ba]"
          }
        },
        "b4b67f66002f42dbaa32fb5ae034a73f": {
          "model_module": "@jupyter-widgets/base",
          "model_module_version": "1.2.0",
          "model_name": "LayoutModel",
          "state": {
            "_model_module": "@jupyter-widgets/base",
            "_model_module_version": "1.2.0",
            "_model_name": "LayoutModel",
            "_view_count": null,
            "_view_module": "@jupyter-widgets/base",
            "_view_module_version": "1.2.0",
            "_view_name": "LayoutView",
            "align_content": null,
            "align_items": null,
            "align_self": null,
            "border": null,
            "bottom": null,
            "display": null,
            "flex": null,
            "flex_flow": null,
            "grid_area": null,
            "grid_auto_columns": null,
            "grid_auto_flow": null,
            "grid_auto_rows": null,
            "grid_column": null,
            "grid_gap": null,
            "grid_row": null,
            "grid_template_areas": null,
            "grid_template_columns": null,
            "grid_template_rows": null,
            "height": null,
            "justify_content": null,
            "justify_items": null,
            "left": null,
            "margin": null,
            "max_height": null,
            "max_width": null,
            "min_height": null,
            "min_width": null,
            "object_fit": null,
            "object_position": null,
            "order": null,
            "overflow": null,
            "overflow_x": null,
            "overflow_y": null,
            "padding": null,
            "right": null,
            "top": null,
            "visibility": null,
            "width": null
          }
        },
        "b8628d6eb4ce4175be7e9fdd9216a92b": {
          "model_module": "@jupyter-widgets/controls",
          "model_module_version": "1.5.0",
          "model_name": "ProgressStyleModel",
          "state": {
            "_model_module": "@jupyter-widgets/controls",
            "_model_module_version": "1.5.0",
            "_model_name": "ProgressStyleModel",
            "_view_count": null,
            "_view_module": "@jupyter-widgets/base",
            "_view_module_version": "1.2.0",
            "_view_name": "StyleView",
            "bar_color": null,
            "description_width": ""
          }
        },
        "b91257c3b1a442a99080e3326241f975": {
          "model_module": "@jupyter-widgets/controls",
          "model_module_version": "1.5.0",
          "model_name": "DescriptionStyleModel",
          "state": {
            "_model_module": "@jupyter-widgets/controls",
            "_model_module_version": "1.5.0",
            "_model_name": "DescriptionStyleModel",
            "_view_count": null,
            "_view_module": "@jupyter-widgets/base",
            "_view_module_version": "1.2.0",
            "_view_name": "StyleView",
            "description_width": ""
          }
        },
        "b941834829b2447f8a27c8187456c5a2": {
          "model_module": "@jupyter-widgets/base",
          "model_module_version": "1.2.0",
          "model_name": "LayoutModel",
          "state": {
            "_model_module": "@jupyter-widgets/base",
            "_model_module_version": "1.2.0",
            "_model_name": "LayoutModel",
            "_view_count": null,
            "_view_module": "@jupyter-widgets/base",
            "_view_module_version": "1.2.0",
            "_view_name": "LayoutView",
            "align_content": null,
            "align_items": null,
            "align_self": null,
            "border": null,
            "bottom": null,
            "display": null,
            "flex": null,
            "flex_flow": null,
            "grid_area": null,
            "grid_auto_columns": null,
            "grid_auto_flow": null,
            "grid_auto_rows": null,
            "grid_column": null,
            "grid_gap": null,
            "grid_row": null,
            "grid_template_areas": null,
            "grid_template_columns": null,
            "grid_template_rows": null,
            "height": null,
            "justify_content": null,
            "justify_items": null,
            "left": null,
            "margin": null,
            "max_height": null,
            "max_width": null,
            "min_height": null,
            "min_width": null,
            "object_fit": null,
            "object_position": null,
            "order": null,
            "overflow": null,
            "overflow_x": null,
            "overflow_y": null,
            "padding": null,
            "right": null,
            "top": null,
            "visibility": null,
            "width": null
          }
        },
        "ba45050bfdbe47e58951b4569c9c1600": {
          "model_module": "@jupyter-widgets/controls",
          "model_module_version": "1.5.0",
          "model_name": "HBoxModel",
          "state": {
            "_dom_classes": [],
            "_model_module": "@jupyter-widgets/controls",
            "_model_module_version": "1.5.0",
            "_model_name": "HBoxModel",
            "_view_count": null,
            "_view_module": "@jupyter-widgets/controls",
            "_view_module_version": "1.5.0",
            "_view_name": "HBoxView",
            "box_style": "",
            "children": [
              "IPY_MODEL_ee711fe62e184f06bd66cf2ddb18b28c",
              "IPY_MODEL_4f7cee0d4c9440859ab13011a948cb3d",
              "IPY_MODEL_b347e006319d4e99833406e98da2289e"
            ],
            "layout": "IPY_MODEL_9072d77b503b46169e7d7dc1a3716da5"
          }
        },
        "bb90ae894eb84c758a202454dcf04941": {
          "model_module": "@jupyter-widgets/controls",
          "model_module_version": "1.5.0",
          "model_name": "FloatProgressModel",
          "state": {
            "_dom_classes": [],
            "_model_module": "@jupyter-widgets/controls",
            "_model_module_version": "1.5.0",
            "_model_name": "FloatProgressModel",
            "_view_count": null,
            "_view_module": "@jupyter-widgets/controls",
            "_view_module_version": "1.5.0",
            "_view_name": "ProgressView",
            "bar_style": "success",
            "description": "",
            "description_tooltip": null,
            "layout": "IPY_MODEL_15716e0583284fdb88166f6d5685e304",
            "max": 2,
            "min": 0,
            "orientation": "horizontal",
            "style": "IPY_MODEL_166c64ab982a46c08973d68ef1af02eb",
            "value": 2
          }
        },
        "bf5fa79d6e91485a950b46663e0587f1": {
          "model_module": "@jupyter-widgets/base",
          "model_module_version": "1.2.0",
          "model_name": "LayoutModel",
          "state": {
            "_model_module": "@jupyter-widgets/base",
            "_model_module_version": "1.2.0",
            "_model_name": "LayoutModel",
            "_view_count": null,
            "_view_module": "@jupyter-widgets/base",
            "_view_module_version": "1.2.0",
            "_view_name": "LayoutView",
            "align_content": null,
            "align_items": null,
            "align_self": null,
            "border": null,
            "bottom": null,
            "display": null,
            "flex": null,
            "flex_flow": null,
            "grid_area": null,
            "grid_auto_columns": null,
            "grid_auto_flow": null,
            "grid_auto_rows": null,
            "grid_column": null,
            "grid_gap": null,
            "grid_row": null,
            "grid_template_areas": null,
            "grid_template_columns": null,
            "grid_template_rows": null,
            "height": null,
            "justify_content": null,
            "justify_items": null,
            "left": null,
            "margin": null,
            "max_height": null,
            "max_width": null,
            "min_height": null,
            "min_width": null,
            "object_fit": null,
            "object_position": null,
            "order": null,
            "overflow": null,
            "overflow_x": null,
            "overflow_y": null,
            "padding": null,
            "right": null,
            "top": null,
            "visibility": null,
            "width": null
          }
        },
        "c1200aff8a114369a8b56648168f9347": {
          "model_module": "@jupyter-widgets/base",
          "model_module_version": "1.2.0",
          "model_name": "LayoutModel",
          "state": {
            "_model_module": "@jupyter-widgets/base",
            "_model_module_version": "1.2.0",
            "_model_name": "LayoutModel",
            "_view_count": null,
            "_view_module": "@jupyter-widgets/base",
            "_view_module_version": "1.2.0",
            "_view_name": "LayoutView",
            "align_content": null,
            "align_items": null,
            "align_self": null,
            "border": null,
            "bottom": null,
            "display": null,
            "flex": null,
            "flex_flow": null,
            "grid_area": null,
            "grid_auto_columns": null,
            "grid_auto_flow": null,
            "grid_auto_rows": null,
            "grid_column": null,
            "grid_gap": null,
            "grid_row": null,
            "grid_template_areas": null,
            "grid_template_columns": null,
            "grid_template_rows": null,
            "height": null,
            "justify_content": null,
            "justify_items": null,
            "left": null,
            "margin": null,
            "max_height": null,
            "max_width": null,
            "min_height": null,
            "min_width": null,
            "object_fit": null,
            "object_position": null,
            "order": null,
            "overflow": null,
            "overflow_x": null,
            "overflow_y": null,
            "padding": null,
            "right": null,
            "top": null,
            "visibility": null,
            "width": null
          }
        },
        "c2ebb646e0b643c8acf5014198ff9cf6": {
          "model_module": "@jupyter-widgets/controls",
          "model_module_version": "1.5.0",
          "model_name": "HTMLModel",
          "state": {
            "_dom_classes": [],
            "_model_module": "@jupyter-widgets/controls",
            "_model_module_version": "1.5.0",
            "_model_name": "HTMLModel",
            "_view_count": null,
            "_view_module": "@jupyter-widgets/controls",
            "_view_module_version": "1.5.0",
            "_view_name": "HTMLView",
            "description": "",
            "description_tooltip": null,
            "layout": "IPY_MODEL_17d4ad9d81d64a91b9686d6cd5194c59",
            "placeholder": "​",
            "style": "IPY_MODEL_0ac2695b64bb40dd81fe9c040a2dbcd0",
            "value": " 8/8 [00:00&lt;00:00, 132.05ba/s]"
          }
        },
        "c450f527e14745539d5e2795ffcfa4ce": {
          "model_module": "@jupyter-widgets/controls",
          "model_module_version": "1.5.0",
          "model_name": "HTMLModel",
          "state": {
            "_dom_classes": [],
            "_model_module": "@jupyter-widgets/controls",
            "_model_module_version": "1.5.0",
            "_model_name": "HTMLModel",
            "_view_count": null,
            "_view_module": "@jupyter-widgets/controls",
            "_view_module_version": "1.5.0",
            "_view_name": "HTMLView",
            "description": "",
            "description_tooltip": null,
            "layout": "IPY_MODEL_7ab8260a3e6d4af4bf5b43cc05b98c89",
            "placeholder": "​",
            "style": "IPY_MODEL_2d3136d6bee74cdeaa17c2f63039e9be",
            "value": "Casting to class labels: 100%"
          }
        },
        "ca871322eaae49f2a304a1d5ce5ada85": {
          "model_module": "@jupyter-widgets/controls",
          "model_module_version": "1.5.0",
          "model_name": "HTMLModel",
          "state": {
            "_dom_classes": [],
            "_model_module": "@jupyter-widgets/controls",
            "_model_module_version": "1.5.0",
            "_model_name": "HTMLModel",
            "_view_count": null,
            "_view_module": "@jupyter-widgets/controls",
            "_view_module_version": "1.5.0",
            "_view_name": "HTMLView",
            "description": "",
            "description_tooltip": null,
            "layout": "IPY_MODEL_619f88603d1146c28764c48d7ab99377",
            "placeholder": "​",
            "style": "IPY_MODEL_0a0183f5be194d689fedbd4818500608",
            "value": " 2/2 [00:01&lt;00:00,  1.48ba/s]"
          }
        },
        "d0466cfe47f94884a47901ab9a60fae4": {
          "model_module": "@jupyter-widgets/controls",
          "model_module_version": "1.5.0",
          "model_name": "DescriptionStyleModel",
          "state": {
            "_model_module": "@jupyter-widgets/controls",
            "_model_module_version": "1.5.0",
            "_model_name": "DescriptionStyleModel",
            "_view_count": null,
            "_view_module": "@jupyter-widgets/base",
            "_view_module_version": "1.2.0",
            "_view_name": "StyleView",
            "description_width": ""
          }
        },
        "d1990c6302404cec9dc4057d3e3e8fef": {
          "model_module": "@jupyter-widgets/controls",
          "model_module_version": "1.5.0",
          "model_name": "ProgressStyleModel",
          "state": {
            "_model_module": "@jupyter-widgets/controls",
            "_model_module_version": "1.5.0",
            "_model_name": "ProgressStyleModel",
            "_view_count": null,
            "_view_module": "@jupyter-widgets/base",
            "_view_module_version": "1.2.0",
            "_view_name": "StyleView",
            "bar_color": null,
            "description_width": ""
          }
        },
        "d7c21914147f49dc91587e8a85a10a3e": {
          "model_module": "@jupyter-widgets/controls",
          "model_module_version": "1.5.0",
          "model_name": "DescriptionStyleModel",
          "state": {
            "_model_module": "@jupyter-widgets/controls",
            "_model_module_version": "1.5.0",
            "_model_name": "DescriptionStyleModel",
            "_view_count": null,
            "_view_module": "@jupyter-widgets/base",
            "_view_module_version": "1.2.0",
            "_view_name": "StyleView",
            "description_width": ""
          }
        },
        "d976a7e316534b55b318d7366f19179d": {
          "model_module": "@jupyter-widgets/base",
          "model_module_version": "1.2.0",
          "model_name": "LayoutModel",
          "state": {
            "_model_module": "@jupyter-widgets/base",
            "_model_module_version": "1.2.0",
            "_model_name": "LayoutModel",
            "_view_count": null,
            "_view_module": "@jupyter-widgets/base",
            "_view_module_version": "1.2.0",
            "_view_name": "LayoutView",
            "align_content": null,
            "align_items": null,
            "align_self": null,
            "border": null,
            "bottom": null,
            "display": null,
            "flex": null,
            "flex_flow": null,
            "grid_area": null,
            "grid_auto_columns": null,
            "grid_auto_flow": null,
            "grid_auto_rows": null,
            "grid_column": null,
            "grid_gap": null,
            "grid_row": null,
            "grid_template_areas": null,
            "grid_template_columns": null,
            "grid_template_rows": null,
            "height": null,
            "justify_content": null,
            "justify_items": null,
            "left": null,
            "margin": null,
            "max_height": null,
            "max_width": null,
            "min_height": null,
            "min_width": null,
            "object_fit": null,
            "object_position": null,
            "order": null,
            "overflow": null,
            "overflow_x": null,
            "overflow_y": null,
            "padding": null,
            "right": null,
            "top": null,
            "visibility": null,
            "width": null
          }
        },
        "e53071a043ce42abba9a2ad1d930ccb1": {
          "model_module": "@jupyter-widgets/controls",
          "model_module_version": "1.5.0",
          "model_name": "DescriptionStyleModel",
          "state": {
            "_model_module": "@jupyter-widgets/controls",
            "_model_module_version": "1.5.0",
            "_model_name": "DescriptionStyleModel",
            "_view_count": null,
            "_view_module": "@jupyter-widgets/base",
            "_view_module_version": "1.2.0",
            "_view_name": "StyleView",
            "description_width": ""
          }
        },
        "e7b44356468f4b46ae94111299a59704": {
          "model_module": "@jupyter-widgets/controls",
          "model_module_version": "1.5.0",
          "model_name": "DescriptionStyleModel",
          "state": {
            "_model_module": "@jupyter-widgets/controls",
            "_model_module_version": "1.5.0",
            "_model_name": "DescriptionStyleModel",
            "_view_count": null,
            "_view_module": "@jupyter-widgets/base",
            "_view_module_version": "1.2.0",
            "_view_name": "StyleView",
            "description_width": ""
          }
        },
        "ee711fe62e184f06bd66cf2ddb18b28c": {
          "model_module": "@jupyter-widgets/controls",
          "model_module_version": "1.5.0",
          "model_name": "HTMLModel",
          "state": {
            "_dom_classes": [],
            "_model_module": "@jupyter-widgets/controls",
            "_model_module_version": "1.5.0",
            "_model_name": "HTMLModel",
            "_view_count": null,
            "_view_module": "@jupyter-widgets/controls",
            "_view_module_version": "1.5.0",
            "_view_name": "HTMLView",
            "description": "",
            "description_tooltip": null,
            "layout": "IPY_MODEL_f29155a38d6a4f5fbe0459f1807d6cb2",
            "placeholder": "​",
            "style": "IPY_MODEL_ac1f5a448f9e4111b5a5b3529833b248",
            "value": "100%"
          }
        },
        "eed47085544e4a4bbe6a5a200acc441c": {
          "model_module": "@jupyter-widgets/controls",
          "model_module_version": "1.5.0",
          "model_name": "HBoxModel",
          "state": {
            "_dom_classes": [],
            "_model_module": "@jupyter-widgets/controls",
            "_model_module_version": "1.5.0",
            "_model_name": "HBoxModel",
            "_view_count": null,
            "_view_module": "@jupyter-widgets/controls",
            "_view_module_version": "1.5.0",
            "_view_name": "HBoxView",
            "box_style": "",
            "children": [
              "IPY_MODEL_2098210bc0684e14a5c09ba2b1796450",
              "IPY_MODEL_0e3670033c2244d9913058890ae176bf",
              "IPY_MODEL_5fc6b311cd2543c5b042b8a6e8e41ac1"
            ],
            "layout": "IPY_MODEL_d976a7e316534b55b318d7366f19179d"
          }
        },
        "f29155a38d6a4f5fbe0459f1807d6cb2": {
          "model_module": "@jupyter-widgets/base",
          "model_module_version": "1.2.0",
          "model_name": "LayoutModel",
          "state": {
            "_model_module": "@jupyter-widgets/base",
            "_model_module_version": "1.2.0",
            "_model_name": "LayoutModel",
            "_view_count": null,
            "_view_module": "@jupyter-widgets/base",
            "_view_module_version": "1.2.0",
            "_view_name": "LayoutView",
            "align_content": null,
            "align_items": null,
            "align_self": null,
            "border": null,
            "bottom": null,
            "display": null,
            "flex": null,
            "flex_flow": null,
            "grid_area": null,
            "grid_auto_columns": null,
            "grid_auto_flow": null,
            "grid_auto_rows": null,
            "grid_column": null,
            "grid_gap": null,
            "grid_row": null,
            "grid_template_areas": null,
            "grid_template_columns": null,
            "grid_template_rows": null,
            "height": null,
            "justify_content": null,
            "justify_items": null,
            "left": null,
            "margin": null,
            "max_height": null,
            "max_width": null,
            "min_height": null,
            "min_width": null,
            "object_fit": null,
            "object_position": null,
            "order": null,
            "overflow": null,
            "overflow_x": null,
            "overflow_y": null,
            "padding": null,
            "right": null,
            "top": null,
            "visibility": null,
            "width": null
          }
        },
        "f3ac3233399a4307ade9925fe8a8a7cb": {
          "model_module": "@jupyter-widgets/base",
          "model_module_version": "1.2.0",
          "model_name": "LayoutModel",
          "state": {
            "_model_module": "@jupyter-widgets/base",
            "_model_module_version": "1.2.0",
            "_model_name": "LayoutModel",
            "_view_count": null,
            "_view_module": "@jupyter-widgets/base",
            "_view_module_version": "1.2.0",
            "_view_name": "LayoutView",
            "align_content": null,
            "align_items": null,
            "align_self": null,
            "border": null,
            "bottom": null,
            "display": null,
            "flex": null,
            "flex_flow": null,
            "grid_area": null,
            "grid_auto_columns": null,
            "grid_auto_flow": null,
            "grid_auto_rows": null,
            "grid_column": null,
            "grid_gap": null,
            "grid_row": null,
            "grid_template_areas": null,
            "grid_template_columns": null,
            "grid_template_rows": null,
            "height": null,
            "justify_content": null,
            "justify_items": null,
            "left": null,
            "margin": null,
            "max_height": null,
            "max_width": null,
            "min_height": null,
            "min_width": null,
            "object_fit": null,
            "object_position": null,
            "order": null,
            "overflow": null,
            "overflow_x": null,
            "overflow_y": null,
            "padding": null,
            "right": null,
            "top": null,
            "visibility": null,
            "width": null
          }
        },
        "fcf3e0cf6310402bba9146ea2e199768": {
          "model_module": "@jupyter-widgets/controls",
          "model_module_version": "1.5.0",
          "model_name": "DescriptionStyleModel",
          "state": {
            "_model_module": "@jupyter-widgets/controls",
            "_model_module_version": "1.5.0",
            "_model_name": "DescriptionStyleModel",
            "_view_count": null,
            "_view_module": "@jupyter-widgets/base",
            "_view_module_version": "1.2.0",
            "_view_name": "StyleView",
            "description_width": ""
          }
        },
        "fdd09881f1004a6ea65884c332de5bd6": {
          "model_module": "@jupyter-widgets/base",
          "model_module_version": "1.2.0",
          "model_name": "LayoutModel",
          "state": {
            "_model_module": "@jupyter-widgets/base",
            "_model_module_version": "1.2.0",
            "_model_name": "LayoutModel",
            "_view_count": null,
            "_view_module": "@jupyter-widgets/base",
            "_view_module_version": "1.2.0",
            "_view_name": "LayoutView",
            "align_content": null,
            "align_items": null,
            "align_self": null,
            "border": null,
            "bottom": null,
            "display": null,
            "flex": null,
            "flex_flow": null,
            "grid_area": null,
            "grid_auto_columns": null,
            "grid_auto_flow": null,
            "grid_auto_rows": null,
            "grid_column": null,
            "grid_gap": null,
            "grid_row": null,
            "grid_template_areas": null,
            "grid_template_columns": null,
            "grid_template_rows": null,
            "height": null,
            "justify_content": null,
            "justify_items": null,
            "left": null,
            "margin": null,
            "max_height": null,
            "max_width": null,
            "min_height": null,
            "min_width": null,
            "object_fit": null,
            "object_position": null,
            "order": null,
            "overflow": null,
            "overflow_x": null,
            "overflow_y": null,
            "padding": null,
            "right": null,
            "top": null,
            "visibility": null,
            "width": null
          }
        },
        "fe99d02a508d4f528ffef34f2be22a4c": {
          "model_module": "@jupyter-widgets/base",
          "model_module_version": "1.2.0",
          "model_name": "LayoutModel",
          "state": {
            "_model_module": "@jupyter-widgets/base",
            "_model_module_version": "1.2.0",
            "_model_name": "LayoutModel",
            "_view_count": null,
            "_view_module": "@jupyter-widgets/base",
            "_view_module_version": "1.2.0",
            "_view_name": "LayoutView",
            "align_content": null,
            "align_items": null,
            "align_self": null,
            "border": null,
            "bottom": null,
            "display": null,
            "flex": null,
            "flex_flow": null,
            "grid_area": null,
            "grid_auto_columns": null,
            "grid_auto_flow": null,
            "grid_auto_rows": null,
            "grid_column": null,
            "grid_gap": null,
            "grid_row": null,
            "grid_template_areas": null,
            "grid_template_columns": null,
            "grid_template_rows": null,
            "height": null,
            "justify_content": null,
            "justify_items": null,
            "left": null,
            "margin": null,
            "max_height": null,
            "max_width": null,
            "min_height": null,
            "min_width": null,
            "object_fit": null,
            "object_position": null,
            "order": null,
            "overflow": null,
            "overflow_x": null,
            "overflow_y": null,
            "padding": null,
            "right": null,
            "top": null,
            "visibility": null,
            "width": null
          }
        }
      }
    }
  },
  "nbformat": 4,
  "nbformat_minor": 5
}
