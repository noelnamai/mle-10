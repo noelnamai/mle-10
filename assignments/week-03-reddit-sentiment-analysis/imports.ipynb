{
 "cells": [
  {
   "cell_type": "code",
   "execution_count": 2,
   "id": "dd8ca316",
   "metadata": {},
   "outputs": [
    {
     "name": "stdout",
     "output_type": "stream",
     "text": [
      "Defaulting to user installation because normal site-packages is not writeable\n",
      "Requirement already satisfied: transformers in /Users/noelnamai/Library/Python/3.9/lib/python/site-packages (4.24.0)\n",
      "Requirement already satisfied: praw in /Users/noelnamai/Library/Python/3.9/lib/python/site-packages (7.6.0)\n",
      "Requirement already satisfied: torch in /Users/noelnamai/Library/Python/3.9/lib/python/site-packages (1.13.0)\n",
      "Requirement already satisfied: numpy in /Users/noelnamai/Library/Python/3.9/lib/python/site-packages (1.23.4)\n",
      "Requirement already satisfied: pandas in /Users/noelnamai/Library/Python/3.9/lib/python/site-packages (1.5.1)\n",
      "Requirement already satisfied: packaging>=20.0 in /Users/noelnamai/Library/Python/3.9/lib/python/site-packages (from transformers) (21.3)\n",
      "Requirement already satisfied: filelock in /Users/noelnamai/Library/Python/3.9/lib/python/site-packages (from transformers) (3.8.0)\n",
      "Requirement already satisfied: requests in /Users/noelnamai/Library/Python/3.9/lib/python/site-packages (from transformers) (2.28.1)\n",
      "Requirement already satisfied: huggingface-hub<1.0,>=0.10.0 in /Users/noelnamai/Library/Python/3.9/lib/python/site-packages (from transformers) (0.10.1)\n",
      "Requirement already satisfied: tqdm>=4.27 in /Users/noelnamai/Library/Python/3.9/lib/python/site-packages (from transformers) (4.64.1)\n",
      "Requirement already satisfied: regex!=2019.12.17 in /Users/noelnamai/Library/Python/3.9/lib/python/site-packages (from transformers) (2022.10.31)\n",
      "Requirement already satisfied: tokenizers!=0.11.3,<0.14,>=0.11.1 in /Users/noelnamai/Library/Python/3.9/lib/python/site-packages (from transformers) (0.13.1)\n",
      "Requirement already satisfied: pyyaml>=5.1 in /Users/noelnamai/Library/Python/3.9/lib/python/site-packages (from transformers) (6.0)\n",
      "Requirement already satisfied: websocket-client>=0.54.0 in /Users/noelnamai/Library/Python/3.9/lib/python/site-packages (from praw) (1.4.1)\n",
      "Requirement already satisfied: update-checker>=0.18 in /Users/noelnamai/Library/Python/3.9/lib/python/site-packages (from praw) (0.18.0)\n",
      "Requirement already satisfied: prawcore<3,>=2.1 in /Users/noelnamai/Library/Python/3.9/lib/python/site-packages (from praw) (2.3.0)\n",
      "Requirement already satisfied: typing-extensions in /Users/noelnamai/Library/Python/3.9/lib/python/site-packages (from torch) (4.4.0)\n",
      "Requirement already satisfied: pytz>=2020.1 in /Users/noelnamai/Library/Python/3.9/lib/python/site-packages (from pandas) (2022.6)\n",
      "Requirement already satisfied: python-dateutil>=2.8.1 in /Users/noelnamai/Library/Python/3.9/lib/python/site-packages (from pandas) (2.8.2)\n",
      "Requirement already satisfied: pyparsing!=3.0.5,>=2.0.2 in /Users/noelnamai/Library/Python/3.9/lib/python/site-packages (from packaging>=20.0->transformers) (3.0.9)\n",
      "Requirement already satisfied: six>=1.5 in /Applications/Xcode.app/Contents/Developer/Library/Frameworks/Python3.framework/Versions/3.9/lib/python3.9/site-packages (from python-dateutil>=2.8.1->pandas) (1.15.0)\n",
      "Requirement already satisfied: urllib3<1.27,>=1.21.1 in /Users/noelnamai/Library/Python/3.9/lib/python/site-packages (from requests->transformers) (1.26.12)\n",
      "Requirement already satisfied: idna<4,>=2.5 in /Users/noelnamai/Library/Python/3.9/lib/python/site-packages (from requests->transformers) (3.4)\n",
      "Requirement already satisfied: certifi>=2017.4.17 in /Users/noelnamai/Library/Python/3.9/lib/python/site-packages (from requests->transformers) (2022.9.24)\n",
      "Requirement already satisfied: charset-normalizer<3,>=2 in /Users/noelnamai/Library/Python/3.9/lib/python/site-packages (from requests->transformers) (2.1.1)\n",
      "Note: you may need to restart the kernel to use updated packages.\n"
     ]
    }
   ],
   "source": [
    "%pip install -U transformers praw torch numpy pandas"
   ]
  }
 ],
 "metadata": {
  "kernelspec": {
   "display_name": "Python 3.9.6 64-bit",
   "language": "python",
   "name": "python3"
  },
  "language_info": {
   "codemirror_mode": {
    "name": "ipython",
    "version": 3
   },
   "file_extension": ".py",
   "mimetype": "text/x-python",
   "name": "python",
   "nbconvert_exporter": "python",
   "pygments_lexer": "ipython3",
   "version": "3.9.6"
  },
  "vscode": {
   "interpreter": {
    "hash": "31f2aee4e71d21fbe5cf8b01ff0e069b9275f58929596ceb00d14d90e3e16cd6"
   }
  }
 },
 "nbformat": 4,
 "nbformat_minor": 5
}
