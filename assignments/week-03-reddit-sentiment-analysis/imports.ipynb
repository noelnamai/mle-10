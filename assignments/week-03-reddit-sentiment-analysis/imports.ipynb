{
 "cells": [
  {
   "cell_type": "code",
   "execution_count": 1,
   "id": "dd8ca316",
   "metadata": {},
   "outputs": [
    {
     "name": "stdout",
     "output_type": "stream",
     "text": [
      "Collecting transformers\n",
      "  Using cached transformers-4.24.0-py3-none-any.whl (5.5 MB)\n",
      "Collecting praw\n",
      "  Using cached praw-7.6.0-py3-none-any.whl (188 kB)\n",
      "Collecting torch\n",
      "  Using cached torch-1.13.0-cp38-none-macosx_10_9_x86_64.whl (137.6 MB)\n",
      "Requirement already satisfied: numpy in /Users/noelnamai/miniconda3/envs/reddit/lib/python3.8/site-packages (1.23.4)\n",
      "Requirement already satisfied: pandas in /Users/noelnamai/miniconda3/envs/reddit/lib/python3.8/site-packages (1.5.1)\n",
      "Collecting filelock\n",
      "  Using cached filelock-3.8.0-py3-none-any.whl (10 kB)\n",
      "Requirement already satisfied: requests in /Users/noelnamai/miniconda3/envs/reddit/lib/python3.8/site-packages (from transformers) (2.28.1)\n",
      "Collecting tokenizers!=0.11.3,<0.14,>=0.11.1\n",
      "  Using cached tokenizers-0.13.1-cp38-cp38-macosx_10_11_x86_64.whl (3.8 MB)\n",
      "Collecting regex!=2019.12.17\n",
      "  Downloading regex-2022.10.31-cp38-cp38-macosx_10_9_x86_64.whl (294 kB)\n",
      "\u001b[2K     \u001b[90m━━━━━━━━━━━━━━━━━━━━━━━━━━━━━━━━━━━━━━━\u001b[0m \u001b[32m294.0/294.0 kB\u001b[0m \u001b[31m5.7 MB/s\u001b[0m eta \u001b[36m0:00:00\u001b[0ma \u001b[36m0:00:01\u001b[0m\n",
      "\u001b[?25hRequirement already satisfied: packaging>=20.0 in /Users/noelnamai/miniconda3/envs/reddit/lib/python3.8/site-packages (from transformers) (21.3)\n",
      "Collecting tqdm>=4.27\n",
      "  Using cached tqdm-4.64.1-py2.py3-none-any.whl (78 kB)\n",
      "Collecting huggingface-hub<1.0,>=0.10.0\n",
      "  Using cached huggingface_hub-0.10.1-py3-none-any.whl (163 kB)\n",
      "Collecting pyyaml>=5.1\n",
      "  Using cached PyYAML-6.0-cp38-cp38-macosx_10_9_x86_64.whl (192 kB)\n",
      "Collecting update-checker>=0.18\n",
      "  Using cached update_checker-0.18.0-py3-none-any.whl (7.0 kB)\n",
      "Requirement already satisfied: websocket-client>=0.54.0 in /Users/noelnamai/miniconda3/envs/reddit/lib/python3.8/site-packages (from praw) (0.58.0)\n",
      "Collecting prawcore<3,>=2.1\n",
      "  Using cached prawcore-2.3.0-py3-none-any.whl (16 kB)\n",
      "Requirement already satisfied: typing-extensions in /Users/noelnamai/miniconda3/envs/reddit/lib/python3.8/site-packages (from torch) (4.3.0)\n",
      "Requirement already satisfied: python-dateutil>=2.8.1 in /Users/noelnamai/miniconda3/envs/reddit/lib/python3.8/site-packages (from pandas) (2.8.2)\n",
      "Requirement already satisfied: pytz>=2020.1 in /Users/noelnamai/miniconda3/envs/reddit/lib/python3.8/site-packages (from pandas) (2022.1)\n",
      "Requirement already satisfied: pyparsing!=3.0.5,>=2.0.2 in /Users/noelnamai/miniconda3/envs/reddit/lib/python3.8/site-packages (from packaging>=20.0->transformers) (3.0.9)\n",
      "Requirement already satisfied: six>=1.5 in /Users/noelnamai/miniconda3/envs/reddit/lib/python3.8/site-packages (from python-dateutil>=2.8.1->pandas) (1.16.0)\n",
      "Requirement already satisfied: certifi>=2017.4.17 in /Users/noelnamai/miniconda3/envs/reddit/lib/python3.8/site-packages (from requests->transformers) (2022.9.24)\n",
      "Requirement already satisfied: idna<4,>=2.5 in /Users/noelnamai/miniconda3/envs/reddit/lib/python3.8/site-packages (from requests->transformers) (3.4)\n",
      "Requirement already satisfied: charset-normalizer<3,>=2 in /Users/noelnamai/miniconda3/envs/reddit/lib/python3.8/site-packages (from requests->transformers) (2.0.4)\n",
      "Requirement already satisfied: urllib3<1.27,>=1.21.1 in /Users/noelnamai/miniconda3/envs/reddit/lib/python3.8/site-packages (from requests->transformers) (1.26.12)\n",
      "Installing collected packages: tokenizers, tqdm, torch, regex, pyyaml, filelock, update-checker, prawcore, huggingface-hub, transformers, praw\n",
      "Successfully installed filelock-3.8.0 huggingface-hub-0.10.1 praw-7.6.0 prawcore-2.3.0 pyyaml-6.0 regex-2022.10.31 tokenizers-0.13.1 torch-1.13.0 tqdm-4.64.1 transformers-4.24.0 update-checker-0.18.0\n",
      "Note: you may need to restart the kernel to use updated packages.\n"
     ]
    }
   ],
   "source": [
    "pip install -U transformers praw torch numpy pandas"
   ]
  }
 ],
 "metadata": {
  "kernelspec": {
   "display_name": "Python 3.8.13 ('reddit')",
   "language": "python",
   "name": "python3"
  },
  "language_info": {
   "codemirror_mode": {
    "name": "ipython",
    "version": 3
   },
   "file_extension": ".py",
   "mimetype": "text/x-python",
   "name": "python",
   "nbconvert_exporter": "python",
   "pygments_lexer": "ipython3",
   "version": "3.8.13"
  },
  "vscode": {
   "interpreter": {
    "hash": "c23b3b7e963c5510c36617795e396a0f0114e527a103d9106c414249bc3bca49"
   }
  }
 },
 "nbformat": 4,
 "nbformat_minor": 5
}
